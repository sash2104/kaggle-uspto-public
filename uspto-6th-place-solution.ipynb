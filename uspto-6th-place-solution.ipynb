{
 "cells": [
  {
   "cell_type": "markdown",
   "id": "91405b28",
   "metadata": {
    "papermill": {
     "duration": 0.005365,
     "end_time": "2024-07-26T13:25:33.023938",
     "exception": false,
     "start_time": "2024-07-26T13:25:33.018573",
     "status": "completed"
    },
    "tags": []
   },
   "source": [
    "This is the code that reproduces a Private Score of 0.94908.\n",
    "\n",
    "- \"Magic\" is not used. The only token-saving method used is the AND omission shared at https://www.kaggle.com/competitions/uspto-explainable-ai/discussion/516104.\n",
    "- Some refactoring has been done, but the core part remains unchanged.\n",
    "- The solver includes a time-cutoff process, so the Private Score does not match exactly.\n",
    "\n",
    "For more details: https://www.kaggle.com/competitions/uspto-explainable-ai/discussion/522202"
   ]
  },
  {
   "cell_type": "markdown",
   "id": "a3dd897f",
   "metadata": {
    "papermill": {
     "duration": 0.004533,
     "end_time": "2024-07-26T13:25:33.033575",
     "exception": false,
     "start_time": "2024-07-26T13:25:33.029042",
     "status": "completed"
    },
    "tags": []
   },
   "source": [
    "## Setup"
   ]
  },
  {
   "cell_type": "code",
   "execution_count": 1,
   "id": "e18a4ddb",
   "metadata": {
    "_cell_guid": "b1076dfc-b9ad-4769-8c92-a6c4dae69d19",
    "_uuid": "8f2839f25d086af736a60e9eeb907d3b93b6e0e5",
    "execution": {
     "iopub.execute_input": "2024-07-26T13:25:33.044771Z",
     "iopub.status.busy": "2024-07-26T13:25:33.044398Z",
     "iopub.status.idle": "2024-07-26T13:25:33.321188Z",
     "shell.execute_reply": "2024-07-26T13:25:33.320040Z"
    },
    "papermill": {
     "duration": 0.285568,
     "end_time": "2024-07-26T13:25:33.323886",
     "exception": false,
     "start_time": "2024-07-26T13:25:33.038318",
     "status": "completed"
    },
    "tags": []
   },
   "outputs": [],
   "source": [
    "# import whoosh_utils\n",
    "import os\n",
    "import polars as pl\n",
    "\n",
    "LOCAL = not os.path.exists(\"/kaggle\")\n",
    "DATADIR = \"/kaggle/input/uspto-explainable-ai\"\n",
    "MY_DATADIR = \"/kaggle/input/uspto2024dataset2\"\n",
    "MY_SCRIPTDIR = \"/kaggle/input/uspto2024script2\"\n",
    "OUTDIR = \"/kaggle/working\"\n",
    "TESTFILE = f\"{DATADIR}/test.csv\"\n",
    "# TESTFILE = f\"{MY_DATADIR}/test.csv\"  # used for local validation\n",
    "if LOCAL:\n",
    "    DATADIR = \"/workspaces/uspto/dataset\"\n",
    "    MY_DATADIR = \"/workspaces/uspto/dataset/me\"\n",
    "    MY_SCRIPTDIR = \"/workspaces/uspto/src\"\n",
    "    OUTDIR = \"/workspaces/uspto/temporary\"\n",
    "    TESTFILE = f\"{DATADIR}/test_2500/1.csv\""
   ]
  },
  {
   "cell_type": "markdown",
   "id": "25104658",
   "metadata": {
    "papermill": {
     "duration": 0.004679,
     "end_time": "2024-07-26T13:25:33.333674",
     "exception": false,
     "start_time": "2024-07-26T13:25:33.328995",
     "status": "completed"
    },
    "tags": []
   },
   "source": [
    "## Preprocess"
   ]
  },
  {
   "cell_type": "code",
   "execution_count": 2,
   "id": "e3a16f9a",
   "metadata": {
    "execution": {
     "iopub.execute_input": "2024-07-26T13:25:33.345287Z",
     "iopub.status.busy": "2024-07-26T13:25:33.344909Z",
     "iopub.status.idle": "2024-07-26T13:25:33.511162Z",
     "shell.execute_reply": "2024-07-26T13:25:33.510130Z"
    },
    "papermill": {
     "duration": 0.174803,
     "end_time": "2024-07-26T13:25:33.513476",
     "exception": false,
     "start_time": "2024-07-26T13:25:33.338673",
     "status": "completed"
    },
    "tags": []
   },
   "outputs": [
    {
     "data": {
      "text/html": [
       "<div><style>\n",
       ".dataframe > thead > tr,\n",
       ".dataframe > tbody > tr {\n",
       "  text-align: right;\n",
       "  white-space: pre-wrap;\n",
       "}\n",
       "</style>\n",
       "<small>shape: (10, 51)</small><table border=\"1\" class=\"dataframe\"><thead><tr><th>publication_number</th><th>target_0</th><th>target_1</th><th>target_2</th><th>target_3</th><th>target_4</th><th>target_5</th><th>target_6</th><th>target_7</th><th>target_8</th><th>target_9</th><th>target_10</th><th>target_11</th><th>target_12</th><th>target_13</th><th>target_14</th><th>target_15</th><th>target_16</th><th>target_17</th><th>target_18</th><th>target_19</th><th>target_20</th><th>target_21</th><th>target_22</th><th>target_23</th><th>target_24</th><th>target_25</th><th>target_26</th><th>target_27</th><th>target_28</th><th>target_29</th><th>target_30</th><th>target_31</th><th>target_32</th><th>target_33</th><th>target_34</th><th>target_35</th><th>target_36</th><th>target_37</th><th>target_38</th><th>target_39</th><th>target_40</th><th>target_41</th><th>target_42</th><th>target_43</th><th>target_44</th><th>target_45</th><th>target_46</th><th>target_47</th><th>target_48</th><th>target_49</th></tr><tr><td>str</td><td>str</td><td>str</td><td>str</td><td>str</td><td>str</td><td>str</td><td>str</td><td>str</td><td>str</td><td>str</td><td>str</td><td>str</td><td>str</td><td>str</td><td>str</td><td>str</td><td>str</td><td>str</td><td>str</td><td>str</td><td>str</td><td>str</td><td>str</td><td>str</td><td>str</td><td>str</td><td>str</td><td>str</td><td>str</td><td>str</td><td>str</td><td>str</td><td>str</td><td>str</td><td>str</td><td>str</td><td>str</td><td>str</td><td>str</td><td>str</td><td>str</td><td>str</td><td>str</td><td>str</td><td>str</td><td>str</td><td>str</td><td>str</td><td>str</td><td>str</td></tr></thead><tbody><tr><td>&quot;US-2017082634-…</td><td>&quot;US-2020225242-…</td><td>&quot;US-2010137151-…</td><td>&quot;US-10607721-B2…</td><td>&quot;US-6747273-B2&quot;</td><td>&quot;US-6940065-B2&quot;</td><td>&quot;US-7684934-B2&quot;</td><td>&quot;US-2019018928-…</td><td>&quot;US-9040903-B2&quot;</td><td>&quot;US-7847245-B2&quot;</td><td>&quot;US-8501421-B2&quot;</td><td>&quot;US-9110076-B2&quot;</td><td>&quot;US-10617717-B2…</td><td>&quot;US-8741556-B2&quot;</td><td>&quot;US-9312110-B2&quot;</td><td>&quot;US-7865312-B2&quot;</td><td>&quot;US-11428696-B2…</td><td>&quot;US-11646185-B2…</td><td>&quot;US-7603240-B2&quot;</td><td>&quot;US-9879304-B2&quot;</td><td>&quot;US-9354236-B2&quot;</td><td>&quot;US-2022365028-…</td><td>&quot;US-2014051105-…</td><td>&quot;US-2021239708-…</td><td>&quot;US-10825672-B2…</td><td>&quot;US-2022397578-…</td><td>&quot;US-9746477-B2&quot;</td><td>&quot;US-2022221467-…</td><td>&quot;US-2016139140-…</td><td>&quot;US-2019353660-…</td><td>&quot;US-9110074-B2&quot;</td><td>&quot;US-8604692-B2&quot;</td><td>&quot;US-2017168055-…</td><td>&quot;US-7499807-B1&quot;</td><td>&quot;US-2003008327-…</td><td>&quot;US-2003166007-…</td><td>&quot;US-10598642-B2…</td><td>&quot;US-10401337-B2…</td><td>&quot;US-2005221500-…</td><td>&quot;US-2017023547-…</td><td>&quot;US-2003157575-…</td><td>&quot;US-10197576-B2…</td><td>&quot;US-11011359-B2…</td><td>&quot;US-7020559-B1&quot;</td><td>&quot;US-8642349-B1&quot;</td><td>&quot;US-2009253156-…</td><td>&quot;US-7783429-B2&quot;</td><td>&quot;US-2003060983-…</td><td>&quot;US-10914740-B2…</td><td>&quot;US-7858389-B2&quot;</td><td>&quot;US-9747412-B2&quot;</td></tr><tr><td>&quot;US-2017180470-…</td><td>&quot;US-2017171349-…</td><td>&quot;US-2017171301-…</td><td>&quot;US-2017155712-…</td><td>&quot;US-2017163642-…</td><td>&quot;US-2017155740-…</td><td>&quot;US-2017180760-…</td><td>&quot;US-2017155927-…</td><td>&quot;US-2014289307-…</td><td>&quot;US-9550119-B2&quot;</td><td>&quot;US-2017163478-…</td><td>&quot;US-9280384-B2&quot;</td><td>&quot;US-2017155928-…</td><td>&quot;US-2017163479-…</td><td>&quot;US-10798147-B2…</td><td>&quot;US-2017171150-…</td><td>&quot;US-11582325-B2…</td><td>&quot;US-11057489-B2…</td><td>&quot;US-2017150214-…</td><td>&quot;US-10182126-B2…</td><td>&quot;US-9456024-B1&quot;</td><td>&quot;US-2017155695-…</td><td>&quot;US-2017163706-…</td><td>&quot;US-2021234919-…</td><td>&quot;US-2014073370-…</td><td>&quot;US-10075387-B1…</td><td>&quot;US-2012005274-…</td><td>&quot;US-8180857-B2&quot;</td><td>&quot;US-2017171566-…</td><td>&quot;US-11432171-B2…</td><td>&quot;US-2018227220-…</td><td>&quot;US-10231269-B2…</td><td>&quot;US-2017163761-…</td><td>&quot;US-2017180468-…</td><td>&quot;US-2022263759-…</td><td>&quot;US-11582153-B2…</td><td>&quot;US-2019245912-…</td><td>&quot;US-2021389960-…</td><td>&quot;US-2017171147-…</td><td>&quot;US-10958580-B2…</td><td>&quot;US-10897506-B2…</td><td>&quot;US-11586626-B1…</td><td>&quot;US-10945130-B2…</td><td>&quot;US-2023041645-…</td><td>&quot;US-2014310385-…</td><td>&quot;US-9749174-B1&quot;</td><td>&quot;US-2014344473-…</td><td>&quot;US-2017142196-…</td><td>&quot;US-9276860-B2&quot;</td><td>&quot;US-2017149934-…</td><td>&quot;US-2017153909-…</td></tr><tr><td>&quot;US-2018029544-…</td><td>&quot;US-9597956-B2&quot;</td><td>&quot;US-2015197150-…</td><td>&quot;US-2015034146-…</td><td>&quot;US-2012132245-…</td><td>&quot;US-2014137939-…</td><td>&quot;US-2011073163-…</td><td>&quot;US-10916749-B2…</td><td>&quot;US-9350288-B2&quot;</td><td>&quot;US-2020105953-…</td><td>&quot;US-8875828-B2&quot;</td><td>&quot;US-9016765-B1&quot;</td><td>&quot;US-2017104446-…</td><td>&quot;US-2014174506-…</td><td>&quot;US-5741370-A&quot;</td><td>&quot;US-2012240982-…</td><td>&quot;US-2011226335-…</td><td>&quot;US-2011146761-…</td><td>&quot;US-2011315191-…</td><td>&quot;US-2021193855-…</td><td>&quot;US-11394071-B2…</td><td>&quot;US-10211355-B2…</td><td>&quot;US-2012080074-…</td><td>&quot;US-5762720-A&quot;</td><td>&quot;US-2015194924-…</td><td>&quot;US-2019319145-…</td><td>&quot;US-2012315528-…</td><td>&quot;US-2012103401-…</td><td>&quot;US-2022367940-…</td><td>&quot;US-8952236-B2&quot;</td><td>&quot;US-11431044-B2…</td><td>&quot;US-2016043257-…</td><td>&quot;US-6631943-B2&quot;</td><td>&quot;US-2013000689-…</td><td>&quot;US-2011155221-…</td><td>&quot;US-2023011595-…</td><td>&quot;US-9722116-B2&quot;</td><td>&quot;US-2013118556-…</td><td>&quot;US-2014345833-…</td><td>&quot;US-2019035962-…</td><td>&quot;US-9278617-B2&quot;</td><td>&quot;US-8748737-B2&quot;</td><td>&quot;US-4717790-A&quot;</td><td>&quot;US-2022320600-…</td><td>&quot;US-10784390-B2…</td><td>&quot;US-11152660-B2…</td><td>&quot;US-2022407163-…</td><td>&quot;US-8056664-B2&quot;</td><td>&quot;US-2022140428-…</td><td>&quot;US-2011100421-…</td><td>&quot;US-9242554-B2&quot;</td></tr><tr><td>&quot;US-2022408153-…</td><td>&quot;US-7698238-B2&quot;</td><td>&quot;US-10593167-B2…</td><td>&quot;US-2013268955-…</td><td>&quot;US-2022337693-…</td><td>&quot;US-11416128-B2…</td><td>&quot;US-2023031160-…</td><td>&quot;US-10834456-B2…</td><td>&quot;US-8898687-B2&quot;</td><td>&quot;US-2020301398-…</td><td>&quot;US-7610260-B2&quot;</td><td>&quot;US-2018018899-…</td><td>&quot;US-2022020053-…</td><td>&quot;US-2012004575-…</td><td>&quot;US-11412178-B2…</td><td>&quot;US-2022021682-…</td><td>&quot;US-10960173-B2…</td><td>&quot;US-9542567-B2&quot;</td><td>&quot;US-10225608-B2…</td><td>&quot;US-11538454-B2…</td><td>&quot;US-2015070516-…</td><td>&quot;US-11671657-B2…</td><td>&quot;US-2015081304-…</td><td>&quot;US-2014337868-…</td><td>&quot;US-9706235-B2&quot;</td><td>&quot;US-9894415-B2&quot;</td><td>&quot;US-2007271580-…</td><td>&quot;US-10083363-B2…</td><td>&quot;US-8634701-B2&quot;</td><td>&quot;US-10798438-B2…</td><td>&quot;US-2022368770-…</td><td>&quot;US-2015243083-…</td><td>&quot;US-2021256046-…</td><td>&quot;US-10368112-B2…</td><td>&quot;US-10015385-B2…</td><td>&quot;US-2014351720-…</td><td>&quot;US-2014325540-…</td><td>&quot;US-2023087729-…</td><td>&quot;US-2019339771-…</td><td>&quot;US-2019019336-…</td><td>&quot;US-8704760-B2&quot;</td><td>&quot;US-11205426-B2…</td><td>&quot;US-10466955-B1…</td><td>&quot;US-11483618-B2…</td><td>&quot;US-2020275875-…</td><td>&quot;US-2015150032-…</td><td>&quot;US-2022070066-…</td><td>&quot;US-2022038510-…</td><td>&quot;US-11057728-B2…</td><td>&quot;US-2022391011-…</td><td>&quot;US-10877555-B2…</td></tr><tr><td>&quot;US-2268569-A&quot;</td><td>&quot;US-2332522-A&quot;</td><td>&quot;US-2268570-A&quot;</td><td>&quot;US-2407088-A&quot;</td><td>&quot;US-2581437-A&quot;</td><td>&quot;US-1972352-A&quot;</td><td>&quot;US-2201671-A&quot;</td><td>&quot;US-2625280-A&quot;</td><td>&quot;US-2319257-A&quot;</td><td>&quot;US-2770378-A&quot;</td><td>&quot;US-2593693-A&quot;</td><td>&quot;US-2365773-A&quot;</td><td>&quot;US-2231484-A&quot;</td><td>&quot;US-2585095-A&quot;</td><td>&quot;US-2676717-A&quot;</td><td>&quot;US-2592457-A&quot;</td><td>&quot;US-2406826-A&quot;</td><td>&quot;US-2070415-A&quot;</td><td>&quot;US-1514008-A&quot;</td><td>&quot;US-2249356-A&quot;</td><td>&quot;US-2409807-A&quot;</td><td>&quot;US-2041734-A&quot;</td><td>&quot;US-1431491-A&quot;</td><td>&quot;US-2546907-A&quot;</td><td>&quot;US-3095080-A&quot;</td><td>&quot;US-2252763-A&quot;</td><td>&quot;US-1761145-A&quot;</td><td>&quot;US-2537010-A&quot;</td><td>&quot;US-2392025-A&quot;</td><td>&quot;US-1504427-A&quot;</td><td>&quot;US-2008190-A&quot;</td><td>&quot;US-2104575-A&quot;</td><td>&quot;US-2301241-A&quot;</td><td>&quot;US-3526173-A&quot;</td><td>&quot;US-2625281-A&quot;</td><td>&quot;US-3035821-A&quot;</td><td>&quot;US-2768006-A&quot;</td><td>&quot;US-2100336-A&quot;</td><td>&quot;US-2507548-A&quot;</td><td>&quot;US-2198916-A&quot;</td><td>&quot;US-2524888-A&quot;</td><td>&quot;US-2824655-A&quot;</td><td>&quot;US-2099981-A&quot;</td><td>&quot;US-2588283-A&quot;</td><td>&quot;US-2268568-A&quot;</td><td>&quot;US-1739624-A&quot;</td><td>&quot;US-2439912-A&quot;</td><td>&quot;US-2157736-A&quot;</td><td>&quot;US-1277214-A&quot;</td><td>&quot;US-2321630-A&quot;</td><td>&quot;US-2707570-A&quot;</td></tr><tr><td>&quot;US-3371854-A&quot;</td><td>&quot;US-3371853-A&quot;</td><td>&quot;US-3428241-A&quot;</td><td>&quot;US-2888189-A&quot;</td><td>&quot;US-3343780-A&quot;</td><td>&quot;US-3244969-A&quot;</td><td>&quot;US-2993638-A&quot;</td><td>&quot;US-3327931-A&quot;</td><td>&quot;US-3330472-A&quot;</td><td>&quot;US-3449627-A&quot;</td><td>&quot;US-3181775-A&quot;</td><td>&quot;US-3796917-A&quot;</td><td>&quot;US-3338507-A&quot;</td><td>&quot;US-3367564-A&quot;</td><td>&quot;US-3391303-A&quot;</td><td>&quot;US-3093298-A&quot;</td><td>&quot;US-3339106-A&quot;</td><td>&quot;US-2042183-A&quot;</td><td>&quot;US-2157552-A&quot;</td><td>&quot;US-3112864-A&quot;</td><td>&quot;US-2956192-A&quot;</td><td>&quot;US-3258194-A&quot;</td><td>&quot;US-3343781-A&quot;</td><td>&quot;US-3495769-A&quot;</td><td>&quot;US-3070283-A&quot;</td><td>&quot;US-2967012-A&quot;</td><td>&quot;US-2796555-A&quot;</td><td>&quot;US-3496399-A&quot;</td><td>&quot;US-3117210-A&quot;</td><td>&quot;US-2108589-A&quot;</td><td>&quot;US-6570959-B1&quot;</td><td>&quot;US-3353055-A&quot;</td><td>&quot;US-3239133-A&quot;</td><td>&quot;US-3746474-A&quot;</td><td>&quot;US-3067346-A&quot;</td><td>&quot;US-4272699-A&quot;</td><td>&quot;US-3473064-A&quot;</td><td>&quot;US-1739513-A&quot;</td><td>&quot;US-2913167-A&quot;</td><td>&quot;US-2210674-A&quot;</td><td>&quot;US-9837243-B2&quot;</td><td>&quot;US-3460745-A&quot;</td><td>&quot;US-3217973-A&quot;</td><td>&quot;US-3769537-A&quot;</td><td>&quot;US-4506160-A&quot;</td><td>&quot;US-1981669-A&quot;</td><td>&quot;US-7960704-B2&quot;</td><td>&quot;US-3452237-A&quot;</td><td>&quot;US-3161802-A&quot;</td><td>&quot;US-2714165-A&quot;</td><td>&quot;US-3381890-A&quot;</td></tr><tr><td>&quot;US-3589189-A&quot;</td><td>&quot;US-5415032-A&quot;</td><td>&quot;US-3415121-A&quot;</td><td>&quot;US-1886364-A&quot;</td><td>&quot;US-3261206-A&quot;</td><td>&quot;US-1238453-A&quot;</td><td>&quot;US-1956281-A&quot;</td><td>&quot;US-2094445-A&quot;</td><td>&quot;US-2860513-A&quot;</td><td>&quot;US-1460715-A&quot;</td><td>&quot;US-2257591-A&quot;</td><td>&quot;US-2464499-A&quot;</td><td>&quot;US-3906793-A&quot;</td><td>&quot;US-1893601-A&quot;</td><td>&quot;US-373003-A&quot;</td><td>&quot;US-2741122-A&quot;</td><td>&quot;US-2121120-A&quot;</td><td>&quot;US-804464-A&quot;</td><td>&quot;US-2391703-A&quot;</td><td>&quot;US-2547301-A&quot;</td><td>&quot;US-115557-A&quot;</td><td>&quot;US-1651885-A&quot;</td><td>&quot;US-804465-A&quot;</td><td>&quot;US-1915663-A&quot;</td><td>&quot;US-2186307-A&quot;</td><td>&quot;US-2042767-A&quot;</td><td>&quot;US-2283532-A&quot;</td><td>&quot;US-2223555-A&quot;</td><td>&quot;US-1668078-A&quot;</td><td>&quot;US-1306217-A&quot;</td><td>&quot;US-933159-A&quot;</td><td>&quot;US-1949006-A&quot;</td><td>&quot;US-2590275-A&quot;</td><td>&quot;US-2086252-A&quot;</td><td>&quot;US-1911521-A&quot;</td><td>&quot;US-2005024-A&quot;</td><td>&quot;US-1965892-A&quot;</td><td>&quot;US-3427986-A&quot;</td><td>&quot;US-3220257-A&quot;</td><td>&quot;US-2087567-A&quot;</td><td>&quot;US-2818046-A&quot;</td><td>&quot;US-2399316-A&quot;</td><td>&quot;US-1809118-A&quot;</td><td>&quot;US-3780912-A&quot;</td><td>&quot;US-2241132-A&quot;</td><td>&quot;US-2116296-A&quot;</td><td>&quot;US-1508937-A&quot;</td><td>&quot;US-2622566-A&quot;</td><td>&quot;US-1694747-A&quot;</td><td>&quot;US-1895318-A&quot;</td><td>&quot;US-2541086-A&quot;</td></tr><tr><td>&quot;US-3881203-A&quot;</td><td>&quot;US-2777179-A&quot;</td><td>&quot;US-3898717-A&quot;</td><td>&quot;US-2453507-A&quot;</td><td>&quot;US-2290891-A&quot;</td><td>&quot;US-1981280-A&quot;</td><td>&quot;US-4013172-A&quot;</td><td>&quot;US-3039470-A&quot;</td><td>&quot;US-4531764-A&quot;</td><td>&quot;US-2980118-A&quot;</td><td>&quot;US-2314532-A&quot;</td><td>&quot;US-1998503-A&quot;</td><td>&quot;US-4189048-A&quot;</td><td>&quot;US-4892333-A&quot;</td><td>&quot;US-3217369-A&quot;</td><td>&quot;US-4606666-A&quot;</td><td>&quot;US-3267546-A&quot;</td><td>&quot;US-4162659-A&quot;</td><td>&quot;US-1982272-A&quot;</td><td>&quot;US-2311641-A&quot;</td><td>&quot;US-2807369-A&quot;</td><td>&quot;US-2827719-A&quot;</td><td>&quot;US-2242737-A&quot;</td><td>&quot;US-5165722-A&quot;</td><td>&quot;US-2631560-A&quot;</td><td>&quot;US-5947521-A&quot;</td><td>&quot;US-2413157-A&quot;</td><td>&quot;US-4824141-A&quot;</td><td>&quot;US-5253968-A&quot;</td><td>&quot;US-3513806-A&quot;</td><td>&quot;US-2532487-A&quot;</td><td>&quot;US-2184786-A&quot;</td><td>&quot;US-2068280-A&quot;</td><td>&quot;US-2891552-A&quot;</td><td>&quot;US-2765925-A&quot;</td><td>&quot;US-2951483-A&quot;</td><td>&quot;US-2061492-A&quot;</td><td>&quot;US-4501438-A&quot;</td><td>&quot;US-5116012-A&quot;</td><td>&quot;US-2633849-A&quot;</td><td>&quot;US-2289665-A&quot;</td><td>&quot;US-4773787-A&quot;</td><td>&quot;US-2143327-A&quot;</td><td>&quot;US-3181218-A&quot;</td><td>&quot;US-3950012-A&quot;</td><td>&quot;US-2600980-A&quot;</td><td>&quot;US-3734155-A&quot;</td><td>&quot;US-2073172-A&quot;</td><td>&quot;US-5010629-A&quot;</td><td>&quot;US-2443216-A&quot;</td><td>&quot;US-2600927-A&quot;</td></tr><tr><td>&quot;US-4845770-A&quot;</td><td>&quot;US-3177470-A&quot;</td><td>&quot;US-3627991-A&quot;</td><td>&quot;US-5301243-A&quot;</td><td>&quot;US-5053612-A&quot;</td><td>&quot;US-4471217-A&quot;</td><td>&quot;US-4246568-A&quot;</td><td>&quot;US-3801776-A&quot;</td><td>&quot;US-5818956-A&quot;</td><td>&quot;US-3673416-A&quot;</td><td>&quot;US-3937928-A&quot;</td><td>&quot;US-4886957-A&quot;</td><td>&quot;US-5046005-A&quot;</td><td>&quot;US-6414293-B1&quot;</td><td>&quot;US-3735094-A&quot;</td><td>&quot;US-3939327-A&quot;</td><td>&quot;US-4118687-A&quot;</td><td>&quot;US-6076731-A&quot;</td><td>&quot;US-5739518-A&quot;</td><td>&quot;US-5248872-A&quot;</td><td>&quot;US-4553837-A&quot;</td><td>&quot;US-5747823-A&quot;</td><td>&quot;US-3735350-A&quot;</td><td>&quot;US-7130090-B2&quot;</td><td>&quot;US-3408482-A&quot;</td><td>&quot;US-5684286-A&quot;</td><td>&quot;US-5959286-A&quot;</td><td>&quot;US-6703633-B2&quot;</td><td>&quot;US-4809340-A&quot;</td><td>&quot;US-6263090-B1&quot;</td><td>&quot;US-5920384-A&quot;</td><td>&quot;US-5663552-A&quot;</td><td>&quot;US-6005255-A&quot;</td><td>&quot;US-3814933-A&quot;</td><td>&quot;US-4672184-A&quot;</td><td>&quot;US-3812347-A&quot;</td><td>&quot;US-6270013-B1&quot;</td><td>&quot;US-5999666-A&quot;</td><td>&quot;US-3805027-A&quot;</td><td>&quot;US-7180643-B2&quot;</td><td>&quot;US-3611292-A&quot;</td><td>&quot;US-6257389-B1&quot;</td><td>&quot;US-3737629-A&quot;</td><td>&quot;US-6729543-B1&quot;</td><td>&quot;US-3896294-A&quot;</td><td>&quot;US-5216523-A&quot;</td><td>&quot;US-4275381-A&quot;</td><td>&quot;US-3600593-A&quot;</td><td>&quot;US-5692068-A&quot;</td><td>&quot;US-3918028-A&quot;</td><td>&quot;US-2014125786-…</td></tr><tr><td>&quot;US-695233-A&quot;</td><td>&quot;US-737196-A&quot;</td><td>&quot;US-609673-A&quot;</td><td>&quot;US-635029-A&quot;</td><td>&quot;US-696859-A&quot;</td><td>&quot;US-914544-A&quot;</td><td>&quot;US-735502-A&quot;</td><td>&quot;US-839428-A&quot;</td><td>&quot;US-789128-A&quot;</td><td>&quot;US-700908-A&quot;</td><td>&quot;US-801061-A&quot;</td><td>&quot;US-707796-A&quot;</td><td>&quot;US-1739951-A&quot;</td><td>&quot;US-780968-A&quot;</td><td>&quot;US-630066-A&quot;</td><td>&quot;US-704032-A&quot;</td><td>&quot;US-753447-A&quot;</td><td>&quot;US-649811-A&quot;</td><td>&quot;US-798821-A&quot;</td><td>&quot;US-651340-A&quot;</td><td>&quot;US-766527-A&quot;</td><td>&quot;US-675461-A&quot;</td><td>&quot;US-657209-A&quot;</td><td>&quot;US-774466-A&quot;</td><td>&quot;US-620179-A&quot;</td><td>&quot;US-816976-A&quot;</td><td>&quot;US-625260-A&quot;</td><td>&quot;US-852620-A&quot;</td><td>&quot;US-1038081-A&quot;</td><td>&quot;US-619509-A&quot;</td><td>&quot;US-850148-A&quot;</td><td>&quot;US-842345-A&quot;</td><td>&quot;US-687534-A&quot;</td><td>&quot;US-837737-A&quot;</td><td>&quot;US-822249-A&quot;</td><td>&quot;US-766475-A&quot;</td><td>&quot;US-610306-A&quot;</td><td>&quot;US-675376-A&quot;</td><td>&quot;US-746819-A&quot;</td><td>&quot;US-848331-A&quot;</td><td>&quot;US-1313607-A&quot;</td><td>&quot;US-608270-A&quot;</td><td>&quot;US-690356-A&quot;</td><td>&quot;US-667774-A&quot;</td><td>&quot;US-716563-A&quot;</td><td>&quot;US-1202872-A&quot;</td><td>&quot;US-864215-A&quot;</td><td>&quot;US-640142-A&quot;</td><td>&quot;US-647027-A&quot;</td><td>&quot;US-606673-A&quot;</td><td>&quot;US-973925-A&quot;</td></tr></tbody></table></div>"
      ],
      "text/plain": [
       "shape: (10, 51)\n",
       "┌───────────┬───────────┬───────────┬───────────┬───┬───────────┬───────────┬───────────┬──────────┐\n",
       "│ publicati ┆ target_0  ┆ target_1  ┆ target_2  ┆ … ┆ target_46 ┆ target_47 ┆ target_48 ┆ target_4 │\n",
       "│ on_number ┆ ---       ┆ ---       ┆ ---       ┆   ┆ ---       ┆ ---       ┆ ---       ┆ 9        │\n",
       "│ ---       ┆ str       ┆ str       ┆ str       ┆   ┆ str       ┆ str       ┆ str       ┆ ---      │\n",
       "│ str       ┆           ┆           ┆           ┆   ┆           ┆           ┆           ┆ str      │\n",
       "╞═══════════╪═══════════╪═══════════╪═══════════╪═══╪═══════════╪═══════════╪═══════════╪══════════╡\n",
       "│ US-201708 ┆ US-202022 ┆ US-201013 ┆ US-106077 ┆ … ┆ US-200306 ┆ US-109147 ┆ US-785838 ┆ US-97474 │\n",
       "│ 2634-A1   ┆ 5242-A1   ┆ 7151-A1   ┆ 21-B2     ┆   ┆ 0983-A1   ┆ 40-B2     ┆ 9-B2      ┆ 12-B2    │\n",
       "│ US-201718 ┆ US-201717 ┆ US-201717 ┆ US-201715 ┆ … ┆ US-201714 ┆ US-927686 ┆ US-201714 ┆ US-20171 │\n",
       "│ 0470-A1   ┆ 1349-A1   ┆ 1301-A1   ┆ 5712-A1   ┆   ┆ 2196-A1   ┆ 0-B2      ┆ 9934-A1   ┆ 53909-A1 │\n",
       "│ US-201802 ┆ US-959795 ┆ US-201519 ┆ US-201503 ┆ … ┆ US-805666 ┆ US-202214 ┆ US-201110 ┆ US-92425 │\n",
       "│ 9544-A1   ┆ 6-B2      ┆ 7150-A1   ┆ 4146-A1   ┆   ┆ 4-B2      ┆ 0428-A1   ┆ 0421-A1   ┆ 54-B2    │\n",
       "│ US-202240 ┆ US-769823 ┆ US-105931 ┆ US-201326 ┆ … ┆ US-202203 ┆ US-110577 ┆ US-202239 ┆ US-10877 │\n",
       "│ 8153-A1   ┆ 8-B2      ┆ 67-B2     ┆ 8955-A1   ┆   ┆ 8510-A1   ┆ 28-B2     ┆ 1011-A1   ┆ 555-B2   │\n",
       "│ US-226856 ┆ US-233252 ┆ US-226857 ┆ US-240708 ┆ … ┆ US-215773 ┆ US-127721 ┆ US-232163 ┆ US-27075 │\n",
       "│ 9-A       ┆ 2-A       ┆ 0-A       ┆ 8-A       ┆   ┆ 6-A       ┆ 4-A       ┆ 0-A       ┆ 70-A     │\n",
       "│ US-337185 ┆ US-337185 ┆ US-342824 ┆ US-288818 ┆ … ┆ US-345223 ┆ US-316180 ┆ US-271416 ┆ US-33818 │\n",
       "│ 4-A       ┆ 3-A       ┆ 1-A       ┆ 9-A       ┆   ┆ 7-A       ┆ 2-A       ┆ 5-A       ┆ 90-A     │\n",
       "│ US-358918 ┆ US-541503 ┆ US-341512 ┆ US-188636 ┆ … ┆ US-262256 ┆ US-169474 ┆ US-189531 ┆ US-25410 │\n",
       "│ 9-A       ┆ 2-A       ┆ 1-A       ┆ 4-A       ┆   ┆ 6-A       ┆ 7-A       ┆ 8-A       ┆ 86-A     │\n",
       "│ US-388120 ┆ US-277717 ┆ US-389871 ┆ US-245350 ┆ … ┆ US-207317 ┆ US-501062 ┆ US-244321 ┆ US-26009 │\n",
       "│ 3-A       ┆ 9-A       ┆ 7-A       ┆ 7-A       ┆   ┆ 2-A       ┆ 9-A       ┆ 6-A       ┆ 27-A     │\n",
       "│ US-484577 ┆ US-317747 ┆ US-362799 ┆ US-530124 ┆ … ┆ US-360059 ┆ US-569206 ┆ US-391802 ┆ US-20141 │\n",
       "│ 0-A       ┆ 0-A       ┆ 1-A       ┆ 3-A       ┆   ┆ 3-A       ┆ 8-A       ┆ 8-A       ┆ 25786-A1 │\n",
       "│ US-695233 ┆ US-737196 ┆ US-609673 ┆ US-635029 ┆ … ┆ US-640142 ┆ US-647027 ┆ US-606673 ┆ US-97392 │\n",
       "│ -A        ┆ -A        ┆ -A        ┆ -A        ┆   ┆ -A        ┆ -A        ┆ -A        ┆ 5-A      │\n",
       "└───────────┴───────────┴───────────┴───────────┴───┴───────────┴───────────┴───────────┴──────────┘"
      ]
     },
     "metadata": {},
     "output_type": "display_data"
    }
   ],
   "source": [
    "test = pl.read_csv(TESTFILE)\n",
    "display(test)"
   ]
  },
  {
   "cell_type": "code",
   "execution_count": 3,
   "id": "7c760778",
   "metadata": {
    "execution": {
     "iopub.execute_input": "2024-07-26T13:25:33.526174Z",
     "iopub.status.busy": "2024-07-26T13:25:33.525780Z",
     "iopub.status.idle": "2024-07-26T13:25:33.616565Z",
     "shell.execute_reply": "2024-07-26T13:25:33.613970Z"
    },
    "papermill": {
     "duration": 0.099772,
     "end_time": "2024-07-26T13:25:33.618776",
     "exception": false,
     "start_time": "2024-07-26T13:25:33.519004",
     "status": "completed"
    },
    "tags": []
   },
   "outputs": [
    {
     "name": "stdout",
     "output_type": "stream",
     "text": [
      "(500, 1)\n",
      "(10, 1)\n"
     ]
    },
    {
     "data": {
      "text/html": [
       "<div><style>\n",
       ".dataframe > thead > tr,\n",
       ".dataframe > tbody > tr {\n",
       "  text-align: right;\n",
       "  white-space: pre-wrap;\n",
       "}\n",
       "</style>\n",
       "<small>shape: (500, 1)</small><table border=\"1\" class=\"dataframe\"><thead><tr><th>publication_number</th></tr><tr><td>str</td></tr></thead><tbody><tr><td>&quot;US-2020225242-…</td></tr><tr><td>&quot;US-2010137151-…</td></tr><tr><td>&quot;US-10607721-B2…</td></tr><tr><td>&quot;US-6747273-B2&quot;</td></tr><tr><td>&quot;US-6940065-B2&quot;</td></tr><tr><td>&hellip;</td></tr><tr><td>&quot;US-864215-A&quot;</td></tr><tr><td>&quot;US-640142-A&quot;</td></tr><tr><td>&quot;US-647027-A&quot;</td></tr><tr><td>&quot;US-606673-A&quot;</td></tr><tr><td>&quot;US-973925-A&quot;</td></tr></tbody></table></div>"
      ],
      "text/plain": [
       "shape: (500, 1)\n",
       "┌────────────────────┐\n",
       "│ publication_number │\n",
       "│ ---                │\n",
       "│ str                │\n",
       "╞════════════════════╡\n",
       "│ US-2020225242-A1   │\n",
       "│ US-2010137151-A1   │\n",
       "│ US-10607721-B2     │\n",
       "│ US-6747273-B2      │\n",
       "│ US-6940065-B2      │\n",
       "│ …                  │\n",
       "│ US-864215-A        │\n",
       "│ US-640142-A        │\n",
       "│ US-647027-A        │\n",
       "│ US-606673-A        │\n",
       "│ US-973925-A        │\n",
       "└────────────────────┘"
      ]
     },
     "metadata": {},
     "output_type": "display_data"
    }
   ],
   "source": [
    "pubnum_list = []\n",
    "query_pubnum_list = []\n",
    "for row in test.iter_rows():\n",
    "    query_pubnum_list.append(row[0])\n",
    "    pubnum_list.extend(row[1:])\n",
    "test_pubnums = pl.DataFrame({\"publication_number\": pubnum_list}).unique(maintain_order=True)\n",
    "query_pubnums = pl.DataFrame({\"publication_number\": query_pubnum_list}).unique(maintain_order=True)\n",
    "query_pubnums = query_pubnums.filter(~pl.col(\"publication_number\").is_in(test_pubnums[\"publication_number\"]))\n",
    "print(test_pubnums.shape)\n",
    "print(query_pubnums.shape)\n",
    "display(test_pubnums)"
   ]
  },
  {
   "cell_type": "code",
   "execution_count": 4,
   "id": "4d705c39",
   "metadata": {
    "execution": {
     "iopub.execute_input": "2024-07-26T13:25:33.631708Z",
     "iopub.status.busy": "2024-07-26T13:25:33.631330Z",
     "iopub.status.idle": "2024-07-26T13:25:51.038928Z",
     "shell.execute_reply": "2024-07-26T13:25:51.037876Z"
    },
    "papermill": {
     "duration": 17.416684,
     "end_time": "2024-07-26T13:25:51.041245",
     "exception": false,
     "start_time": "2024-07-26T13:25:33.624561",
     "status": "completed"
    },
    "tags": []
   },
   "outputs": [
    {
     "name": "stdout",
     "output_type": "stream",
     "text": [
      "500 13307241 13307751\n",
      "shape: (5, 2)\n",
      "┌─────┬────────────────────┐\n",
      "│ id  ┆ publication_number │\n",
      "│ --- ┆ ---                │\n",
      "│ u32 ┆ str                │\n",
      "╞═════╪════════════════════╡\n",
      "│ 0   ┆ US-2020225242-A1   │\n",
      "│ 1   ┆ US-2010137151-A1   │\n",
      "│ 2   ┆ US-10607721-B2     │\n",
      "│ 3   ┆ US-6747273-B2      │\n",
      "│ 4   ┆ US-6940065-B2      │\n",
      "└─────┴────────────────────┘\n"
     ]
    },
    {
     "data": {
      "text/html": [
       "<div><style>\n",
       ".dataframe > thead > tr,\n",
       ".dataframe > tbody > tr {\n",
       "  text-align: right;\n",
       "  white-space: pre-wrap;\n",
       "}\n",
       "</style>\n",
       "<small>shape: (13_307_751, 1)</small><table border=\"1\" class=\"dataframe\"><thead><tr><th>publication_number</th></tr><tr><td>str</td></tr></thead><tbody><tr><td>&quot;US-2020225242-…</td></tr><tr><td>&quot;US-2010137151-…</td></tr><tr><td>&quot;US-10607721-B2…</td></tr><tr><td>&quot;US-6747273-B2&quot;</td></tr><tr><td>&quot;US-6940065-B2&quot;</td></tr><tr><td>&hellip;</td></tr><tr><td>&quot;US-T999003-I4&quot;</td></tr><tr><td>&quot;US-X1-I1&quot;</td></tr><tr><td>&quot;US-X7668-I1&quot;</td></tr><tr><td>&quot;US-X7982-I1&quot;</td></tr><tr><td>&quot;US-X8736-I1&quot;</td></tr></tbody></table></div>"
      ],
      "text/plain": [
       "shape: (13_307_751, 1)\n",
       "┌────────────────────┐\n",
       "│ publication_number │\n",
       "│ ---                │\n",
       "│ str                │\n",
       "╞════════════════════╡\n",
       "│ US-2020225242-A1   │\n",
       "│ US-2010137151-A1   │\n",
       "│ US-10607721-B2     │\n",
       "│ US-6747273-B2      │\n",
       "│ US-6940065-B2      │\n",
       "│ …                  │\n",
       "│ US-T999003-I4      │\n",
       "│ US-X1-I1           │\n",
       "│ US-X7668-I1        │\n",
       "│ US-X7982-I1        │\n",
       "│ US-X8736-I1        │\n",
       "└────────────────────┘"
      ]
     },
     "metadata": {},
     "output_type": "display_data"
    }
   ],
   "source": [
    "metadata = pl.scan_parquet(f\"{DATADIR}/patent_metadata.parquet\")\n",
    "metadata = metadata.select([\"publication_number\",\"cpc_codes\"]).collect()\n",
    "# potential_negative = metadata.select([\"publication_number\"]).sample(1000, seed=42)\n",
    "# potential_negative = metadata.select([\"publication_number\"]).sample(2000000, seed=42)\n",
    "potential_negative = metadata.select([\"publication_number\"])\n",
    "potential_negative = potential_negative.filter(~pl.col(\"publication_number\").is_in(test_pubnums[\"publication_number\"]))\n",
    "potential_negative = potential_negative.filter(~pl.col(\"publication_number\").is_in(query_pubnums[\"publication_number\"]))\n",
    "pubnums = pl.concat([test_pubnums.to_series(), query_pubnums.to_series(), potential_negative.to_series()])\n",
    "n_test = test_pubnums.shape[0]\n",
    "n_potential_negative = potential_negative.shape[0]\n",
    "n_all = pubnums.shape[0]\n",
    "print(n_test, n_potential_negative, n_all)\n",
    "pubnums = pubnums.to_frame() # series -> dataframe\n",
    "pubnums = pubnums.with_row_index(\"id\")\n",
    "print(pubnums.head())\n",
    "pubnum2id = {}\n",
    "for row in pubnums.rows():\n",
    "    pubnum2id[row[1]] = row[0]\n",
    "pubnums = pubnums.select([\"publication_number\"])\n",
    "display(pubnums)"
   ]
  },
  {
   "cell_type": "code",
   "execution_count": 5,
   "id": "9af23771",
   "metadata": {
    "execution": {
     "iopub.execute_input": "2024-07-26T13:25:51.054572Z",
     "iopub.status.busy": "2024-07-26T13:25:51.054176Z",
     "iopub.status.idle": "2024-07-26T13:25:51.063746Z",
     "shell.execute_reply": "2024-07-26T13:25:51.062641Z"
    },
    "papermill": {
     "duration": 0.01902,
     "end_time": "2024-07-26T13:25:51.066170",
     "exception": false,
     "start_time": "2024-07-26T13:25:51.047150",
     "status": "completed"
    },
    "tags": []
   },
   "outputs": [],
   "source": [
    "test_pubnums_id = test_pubnums.with_row_index(\"id\")\n",
    "test_pubnum2id = {}\n",
    "for row in test_pubnums_id.rows():\n",
    "    test_pubnum2id[row[1]] = row[0]\n",
    "test_pubnums_id = test_pubnums_id.select([\"publication_number\", \"id\"])\n",
    "test_pubnums_id.write_csv(f\"{OUTDIR}/vocab_pubnum.tsv\", separator='\\t', include_header=False)"
   ]
  },
  {
   "cell_type": "code",
   "execution_count": 6,
   "id": "dff7b10f",
   "metadata": {
    "execution": {
     "iopub.execute_input": "2024-07-26T13:25:51.079992Z",
     "iopub.status.busy": "2024-07-26T13:25:51.079605Z",
     "iopub.status.idle": "2024-07-26T13:25:51.140840Z",
     "shell.execute_reply": "2024-07-26T13:25:51.139780Z"
    },
    "papermill": {
     "duration": 0.070979,
     "end_time": "2024-07-26T13:25:51.143237",
     "exception": false,
     "start_time": "2024-07-26T13:25:51.072258",
     "status": "completed"
    },
    "tags": []
   },
   "outputs": [
    {
     "data": {
      "text/html": [
       "<div><style>\n",
       ".dataframe > thead > tr,\n",
       ".dataframe > tbody > tr {\n",
       "  text-align: right;\n",
       "  white-space: pre-wrap;\n",
       "}\n",
       "</style>\n",
       "<small>shape: (10, 51)</small><table border=\"1\" class=\"dataframe\"><thead><tr><th>publication_number</th><th>target_0</th><th>target_1</th><th>target_2</th><th>target_3</th><th>target_4</th><th>target_5</th><th>target_6</th><th>target_7</th><th>target_8</th><th>target_9</th><th>target_10</th><th>target_11</th><th>target_12</th><th>target_13</th><th>target_14</th><th>target_15</th><th>target_16</th><th>target_17</th><th>target_18</th><th>target_19</th><th>target_20</th><th>target_21</th><th>target_22</th><th>target_23</th><th>target_24</th><th>target_25</th><th>target_26</th><th>target_27</th><th>target_28</th><th>target_29</th><th>target_30</th><th>target_31</th><th>target_32</th><th>target_33</th><th>target_34</th><th>target_35</th><th>target_36</th><th>target_37</th><th>target_38</th><th>target_39</th><th>target_40</th><th>target_41</th><th>target_42</th><th>target_43</th><th>target_44</th><th>target_45</th><th>target_46</th><th>target_47</th><th>target_48</th><th>target_49</th></tr><tr><td>i64</td><td>i64</td><td>i64</td><td>i64</td><td>i64</td><td>i64</td><td>i64</td><td>i64</td><td>i64</td><td>i64</td><td>i64</td><td>i64</td><td>i64</td><td>i64</td><td>i64</td><td>i64</td><td>i64</td><td>i64</td><td>i64</td><td>i64</td><td>i64</td><td>i64</td><td>i64</td><td>i64</td><td>i64</td><td>i64</td><td>i64</td><td>i64</td><td>i64</td><td>i64</td><td>i64</td><td>i64</td><td>i64</td><td>i64</td><td>i64</td><td>i64</td><td>i64</td><td>i64</td><td>i64</td><td>i64</td><td>i64</td><td>i64</td><td>i64</td><td>i64</td><td>i64</td><td>i64</td><td>i64</td><td>i64</td><td>i64</td><td>i64</td><td>i64</td></tr></thead><tbody><tr><td>500</td><td>0</td><td>1</td><td>2</td><td>3</td><td>4</td><td>5</td><td>6</td><td>7</td><td>8</td><td>9</td><td>10</td><td>11</td><td>12</td><td>13</td><td>14</td><td>15</td><td>16</td><td>17</td><td>18</td><td>19</td><td>20</td><td>21</td><td>22</td><td>23</td><td>24</td><td>25</td><td>26</td><td>27</td><td>28</td><td>29</td><td>30</td><td>31</td><td>32</td><td>33</td><td>34</td><td>35</td><td>36</td><td>37</td><td>38</td><td>39</td><td>40</td><td>41</td><td>42</td><td>43</td><td>44</td><td>45</td><td>46</td><td>47</td><td>48</td><td>49</td></tr><tr><td>501</td><td>50</td><td>51</td><td>52</td><td>53</td><td>54</td><td>55</td><td>56</td><td>57</td><td>58</td><td>59</td><td>60</td><td>61</td><td>62</td><td>63</td><td>64</td><td>65</td><td>66</td><td>67</td><td>68</td><td>69</td><td>70</td><td>71</td><td>72</td><td>73</td><td>74</td><td>75</td><td>76</td><td>77</td><td>78</td><td>79</td><td>80</td><td>81</td><td>82</td><td>83</td><td>84</td><td>85</td><td>86</td><td>87</td><td>88</td><td>89</td><td>90</td><td>91</td><td>92</td><td>93</td><td>94</td><td>95</td><td>96</td><td>97</td><td>98</td><td>99</td></tr><tr><td>502</td><td>100</td><td>101</td><td>102</td><td>103</td><td>104</td><td>105</td><td>106</td><td>107</td><td>108</td><td>109</td><td>110</td><td>111</td><td>112</td><td>113</td><td>114</td><td>115</td><td>116</td><td>117</td><td>118</td><td>119</td><td>120</td><td>121</td><td>122</td><td>123</td><td>124</td><td>125</td><td>126</td><td>127</td><td>128</td><td>129</td><td>130</td><td>131</td><td>132</td><td>133</td><td>134</td><td>135</td><td>136</td><td>137</td><td>138</td><td>139</td><td>140</td><td>141</td><td>142</td><td>143</td><td>144</td><td>145</td><td>146</td><td>147</td><td>148</td><td>149</td></tr><tr><td>503</td><td>150</td><td>151</td><td>152</td><td>153</td><td>154</td><td>155</td><td>156</td><td>157</td><td>158</td><td>159</td><td>160</td><td>161</td><td>162</td><td>163</td><td>164</td><td>165</td><td>166</td><td>167</td><td>168</td><td>169</td><td>170</td><td>171</td><td>172</td><td>173</td><td>174</td><td>175</td><td>176</td><td>177</td><td>178</td><td>179</td><td>180</td><td>181</td><td>182</td><td>183</td><td>184</td><td>185</td><td>186</td><td>187</td><td>188</td><td>189</td><td>190</td><td>191</td><td>192</td><td>193</td><td>194</td><td>195</td><td>196</td><td>197</td><td>198</td><td>199</td></tr><tr><td>504</td><td>200</td><td>201</td><td>202</td><td>203</td><td>204</td><td>205</td><td>206</td><td>207</td><td>208</td><td>209</td><td>210</td><td>211</td><td>212</td><td>213</td><td>214</td><td>215</td><td>216</td><td>217</td><td>218</td><td>219</td><td>220</td><td>221</td><td>222</td><td>223</td><td>224</td><td>225</td><td>226</td><td>227</td><td>228</td><td>229</td><td>230</td><td>231</td><td>232</td><td>233</td><td>234</td><td>235</td><td>236</td><td>237</td><td>238</td><td>239</td><td>240</td><td>241</td><td>242</td><td>243</td><td>244</td><td>245</td><td>246</td><td>247</td><td>248</td><td>249</td></tr><tr><td>505</td><td>250</td><td>251</td><td>252</td><td>253</td><td>254</td><td>255</td><td>256</td><td>257</td><td>258</td><td>259</td><td>260</td><td>261</td><td>262</td><td>263</td><td>264</td><td>265</td><td>266</td><td>267</td><td>268</td><td>269</td><td>270</td><td>271</td><td>272</td><td>273</td><td>274</td><td>275</td><td>276</td><td>277</td><td>278</td><td>279</td><td>280</td><td>281</td><td>282</td><td>283</td><td>284</td><td>285</td><td>286</td><td>287</td><td>288</td><td>289</td><td>290</td><td>291</td><td>292</td><td>293</td><td>294</td><td>295</td><td>296</td><td>297</td><td>298</td><td>299</td></tr><tr><td>506</td><td>300</td><td>301</td><td>302</td><td>303</td><td>304</td><td>305</td><td>306</td><td>307</td><td>308</td><td>309</td><td>310</td><td>311</td><td>312</td><td>313</td><td>314</td><td>315</td><td>316</td><td>317</td><td>318</td><td>319</td><td>320</td><td>321</td><td>322</td><td>323</td><td>324</td><td>325</td><td>326</td><td>327</td><td>328</td><td>329</td><td>330</td><td>331</td><td>332</td><td>333</td><td>334</td><td>335</td><td>336</td><td>337</td><td>338</td><td>339</td><td>340</td><td>341</td><td>342</td><td>343</td><td>344</td><td>345</td><td>346</td><td>347</td><td>348</td><td>349</td></tr><tr><td>507</td><td>350</td><td>351</td><td>352</td><td>353</td><td>354</td><td>355</td><td>356</td><td>357</td><td>358</td><td>359</td><td>360</td><td>361</td><td>362</td><td>363</td><td>364</td><td>365</td><td>366</td><td>367</td><td>368</td><td>369</td><td>370</td><td>371</td><td>372</td><td>373</td><td>374</td><td>375</td><td>376</td><td>377</td><td>378</td><td>379</td><td>380</td><td>381</td><td>382</td><td>383</td><td>384</td><td>385</td><td>386</td><td>387</td><td>388</td><td>389</td><td>390</td><td>391</td><td>392</td><td>393</td><td>394</td><td>395</td><td>396</td><td>397</td><td>398</td><td>399</td></tr><tr><td>508</td><td>400</td><td>401</td><td>402</td><td>403</td><td>404</td><td>405</td><td>406</td><td>407</td><td>408</td><td>409</td><td>410</td><td>411</td><td>412</td><td>413</td><td>414</td><td>415</td><td>416</td><td>417</td><td>418</td><td>419</td><td>420</td><td>421</td><td>422</td><td>423</td><td>424</td><td>425</td><td>426</td><td>427</td><td>428</td><td>429</td><td>430</td><td>431</td><td>432</td><td>433</td><td>434</td><td>435</td><td>436</td><td>437</td><td>438</td><td>439</td><td>440</td><td>441</td><td>442</td><td>443</td><td>444</td><td>445</td><td>446</td><td>447</td><td>448</td><td>449</td></tr><tr><td>509</td><td>450</td><td>451</td><td>452</td><td>453</td><td>454</td><td>455</td><td>456</td><td>457</td><td>458</td><td>459</td><td>460</td><td>461</td><td>462</td><td>463</td><td>464</td><td>465</td><td>466</td><td>467</td><td>468</td><td>469</td><td>470</td><td>471</td><td>472</td><td>473</td><td>474</td><td>475</td><td>476</td><td>477</td><td>478</td><td>479</td><td>480</td><td>481</td><td>482</td><td>483</td><td>484</td><td>485</td><td>486</td><td>487</td><td>488</td><td>489</td><td>490</td><td>491</td><td>492</td><td>493</td><td>494</td><td>495</td><td>496</td><td>497</td><td>498</td><td>499</td></tr></tbody></table></div>"
      ],
      "text/plain": [
       "shape: (10, 51)\n",
       "┌─────────────┬──────────┬──────────┬──────────┬───┬───────────┬───────────┬───────────┬───────────┐\n",
       "│ publication ┆ target_0 ┆ target_1 ┆ target_2 ┆ … ┆ target_46 ┆ target_47 ┆ target_48 ┆ target_49 │\n",
       "│ _number     ┆ ---      ┆ ---      ┆ ---      ┆   ┆ ---       ┆ ---       ┆ ---       ┆ ---       │\n",
       "│ ---         ┆ i64      ┆ i64      ┆ i64      ┆   ┆ i64       ┆ i64       ┆ i64       ┆ i64       │\n",
       "│ i64         ┆          ┆          ┆          ┆   ┆           ┆           ┆           ┆           │\n",
       "╞═════════════╪══════════╪══════════╪══════════╪═══╪═══════════╪═══════════╪═══════════╪═══════════╡\n",
       "│ 500         ┆ 0        ┆ 1        ┆ 2        ┆ … ┆ 46        ┆ 47        ┆ 48        ┆ 49        │\n",
       "│ 501         ┆ 50       ┆ 51       ┆ 52       ┆ … ┆ 96        ┆ 97        ┆ 98        ┆ 99        │\n",
       "│ 502         ┆ 100      ┆ 101      ┆ 102      ┆ … ┆ 146       ┆ 147       ┆ 148       ┆ 149       │\n",
       "│ 503         ┆ 150      ┆ 151      ┆ 152      ┆ … ┆ 196       ┆ 197       ┆ 198       ┆ 199       │\n",
       "│ 504         ┆ 200      ┆ 201      ┆ 202      ┆ … ┆ 246       ┆ 247       ┆ 248       ┆ 249       │\n",
       "│ 505         ┆ 250      ┆ 251      ┆ 252      ┆ … ┆ 296       ┆ 297       ┆ 298       ┆ 299       │\n",
       "│ 506         ┆ 300      ┆ 301      ┆ 302      ┆ … ┆ 346       ┆ 347       ┆ 348       ┆ 349       │\n",
       "│ 507         ┆ 350      ┆ 351      ┆ 352      ┆ … ┆ 396       ┆ 397       ┆ 398       ┆ 399       │\n",
       "│ 508         ┆ 400      ┆ 401      ┆ 402      ┆ … ┆ 446       ┆ 447       ┆ 448       ┆ 449       │\n",
       "│ 509         ┆ 450      ┆ 451      ┆ 452      ┆ … ┆ 496       ┆ 497       ┆ 498       ┆ 499       │\n",
       "└─────────────┴──────────┴──────────┴──────────┴───┴───────────┴───────────┴───────────┴───────────┘"
      ]
     },
     "metadata": {},
     "output_type": "display_data"
    }
   ],
   "source": [
    "test_id = test.select(\n",
    "    [pl.col(col).map_elements(lambda x: pubnum2id.get(x, -1), return_dtype=pl.Int64).alias(col) for col in test.columns]\n",
    ")\n",
    "test_id.write_csv(f\"{OUTDIR}/test.tsv\", separator='\\t', include_header=False)\n",
    "display(test_id)"
   ]
  },
  {
   "cell_type": "code",
   "execution_count": 7,
   "id": "6db98b64",
   "metadata": {
    "execution": {
     "iopub.execute_input": "2024-07-26T13:25:51.157157Z",
     "iopub.status.busy": "2024-07-26T13:25:51.156781Z",
     "iopub.status.idle": "2024-07-26T13:25:53.711881Z",
     "shell.execute_reply": "2024-07-26T13:25:53.710789Z"
    },
    "papermill": {
     "duration": 2.565063,
     "end_time": "2024-07-26T13:25:53.714435",
     "exception": false,
     "start_time": "2024-07-26T13:25:51.149372",
     "status": "completed"
    },
    "tags": []
   },
   "outputs": [
    {
     "name": "stdout",
     "output_type": "stream",
     "text": [
      "495\n"
     ]
    },
    {
     "data": {
      "text/html": [
       "<div><style>\n",
       ".dataframe > thead > tr,\n",
       ".dataframe > tbody > tr {\n",
       "  text-align: right;\n",
       "  white-space: pre-wrap;\n",
       "}\n",
       "</style>\n",
       "<small>shape: (495, 2)</small><table border=\"1\" class=\"dataframe\"><thead><tr><th>pubid</th><th>tokens</th></tr><tr><td>i32</td><td>str</td></tr></thead><tbody><tr><td>392</td><td>&quot;detd:zzaleew&quot;</td></tr><tr><td>389</td><td>&quot;(detd:fomssr d…</td></tr><tr><td>256</td><td>&quot;detd:gbtter&quot;</td></tr><tr><td>415</td><td>&quot;detd:m439085&quot;</td></tr><tr><td>248</td><td>&quot;(detd:wjjiw de…</td></tr><tr><td>&hellip;</td><td>&hellip;</td></tr><tr><td>133</td><td>&quot;(cpc:H01L31/04…</td></tr><tr><td>407</td><td>&quot;(cpc:G06V40/13…</td></tr><tr><td>57</td><td>&quot;(ab:appointed …</td></tr><tr><td>364</td><td>&quot;(ab:bulletins …</td></tr><tr><td>123</td><td>&quot;(ab:unlikely c…</td></tr></tbody></table></div>"
      ],
      "text/plain": [
       "shape: (495, 2)\n",
       "┌───────┬─────────────────────────────────┐\n",
       "│ pubid ┆ tokens                          │\n",
       "│ ---   ┆ ---                             │\n",
       "│ i32   ┆ str                             │\n",
       "╞═══════╪═════════════════════════════════╡\n",
       "│ 392   ┆ detd:zzaleew                    │\n",
       "│ 389   ┆ (detd:fomssr detd:viiiil)       │\n",
       "│ 256   ┆ detd:gbtter                     │\n",
       "│ 415   ┆ detd:m439085                    │\n",
       "│ 248   ┆ (detd:wjjiw detd:zar)           │\n",
       "│ …     ┆ …                               │\n",
       "│ 133   ┆ (cpc:H01L31/0488 ti:waterproof) │\n",
       "│ 407   ┆ (cpc:G06V40/1324 ti:extended)   │\n",
       "│ 57    ┆ (ab:appointed cpc:H04L45/302)   │\n",
       "│ 364   ┆ (ab:bulletins cpc:B42F13/14)    │\n",
       "│ 123   ┆ (ab:unlikely cpc:B60K2016/003)  │\n",
       "└───────┴─────────────────────────────────┘"
      ]
     },
     "metadata": {},
     "output_type": "display_data"
    }
   ],
   "source": [
    "nshot = pl.read_csv(f\"{MY_DATADIR}/nshot.tsv\", separator=\"\\t\")\n",
    "test_nshot = test_pubnums.join(nshot, how=\"inner\", on=\"publication_number\")\n",
    "print(len(test_nshot))\n",
    "test_nshot.head()\n",
    "\n",
    "def map_pubnum_to_id(pubnum):\n",
    "    return pubnum2id.get(pubnum, None)\n",
    "\n",
    "test_nshot = test_nshot.with_columns(\n",
    "    pl.col(\"publication_number\").map_elements(map_pubnum_to_id, return_dtype=pl.Int32).alias(\"pubid\")\n",
    ")\n",
    "test_nshot = test_nshot.select([\"pubid\", \"tokens\"])\n",
    "test_nshot.write_csv(f\"{OUTDIR}/nshot.tsv\", separator=\"\\t\", include_header=False)\n",
    "display(test_nshot)"
   ]
  },
  {
   "cell_type": "code",
   "execution_count": 8,
   "id": "684554ef",
   "metadata": {
    "execution": {
     "iopub.execute_input": "2024-07-26T13:25:53.729836Z",
     "iopub.status.busy": "2024-07-26T13:25:53.729460Z",
     "iopub.status.idle": "2024-07-26T13:25:53.742862Z",
     "shell.execute_reply": "2024-07-26T13:25:53.741747Z"
    },
    "papermill": {
     "duration": 0.023475,
     "end_time": "2024-07-26T13:25:53.745369",
     "exception": false,
     "start_time": "2024-07-26T13:25:53.721894",
     "status": "completed"
    },
    "tags": []
   },
   "outputs": [],
   "source": [
    "def create_and_write_vocab(df, key, write_key=None):\n",
    "    if write_key is None:\n",
    "        write_key = key\n",
    "    words = set()\n",
    "    for row in df.select(key).iter_rows():\n",
    "        for word in row[0]:\n",
    "            words.add(word)\n",
    "    words = list(words)\n",
    "    words.sort()\n",
    "    words = pl.DataFrame({key: words})\n",
    "    words = words.with_row_index(\"id\")\n",
    "    words = words.select([key, \"id\"])\n",
    "    print(len(words))\n",
    "    words.write_csv(f\"{OUTDIR}/vocab_{write_key}.tsv\", separator='\\t', include_header=False)\n",
    "    word2id = {}\n",
    "    for row in words.rows():\n",
    "        word2id[row[0]] = row[1]\n",
    "    return word2id\n",
    "\n",
    "def write_x2y(filepath: str, x2y):\n",
    "    with open(filepath, \"w\") as f:\n",
    "        f.write(f\"{len(x2y)}\\n\")\n",
    "        for y in x2y:\n",
    "            f.write(f\"{len(y)}\")\n",
    "            if len(y) == 0:\n",
    "                f.write(\"\\n\")\n",
    "                continue\n",
    "            ystr = \" \".join(map(str, y))\n",
    "            f.write(f\" {ystr}\\n\")\n",
    "\n",
    "def calc_y2xs(df, id_x, id_y, vocab_x, vocab_y, write_key_y):\n",
    "    y2xs = [[] for _ in range(len(vocab_y))]\n",
    "    for row in df.iter_rows():\n",
    "        x = row[id_x]\n",
    "        xid = vocab_x[x]\n",
    "        for y in row[id_y]:\n",
    "            yid = vocab_y.get(y)\n",
    "            if yid is None:\n",
    "                continue\n",
    "            y2xs[yid].append(xid)\n",
    "    file = f\"{OUTDIR}/{write_key_y}2pubnum.txt\"\n",
    "    write_x2y(file, y2xs)\n",
    "    print(file)\n",
    "\n",
    "def calc_x2ys(df, id_x, id_y, vocab_x, vocab_y, write_key_y):\n",
    "    x2ys = [[] for _ in range(len(vocab_x))]\n",
    "    for row in df.iter_rows():\n",
    "        x = row[id_x]\n",
    "        xid = vocab_x[x]\n",
    "        x2ys[xid] = [vocab_y[y] for y in row[id_y]]\n",
    "    file = f\"{OUTDIR}/pubnum2{write_key_y}.txt\"\n",
    "    write_x2y(file, x2ys)  \n",
    "    print(file)"
   ]
  },
  {
   "cell_type": "code",
   "execution_count": 9,
   "id": "7837617d",
   "metadata": {
    "execution": {
     "iopub.execute_input": "2024-07-26T13:25:53.759675Z",
     "iopub.status.busy": "2024-07-26T13:25:53.759252Z",
     "iopub.status.idle": "2024-07-26T13:26:35.163952Z",
     "shell.execute_reply": "2024-07-26T13:26:35.162848Z"
    },
    "papermill": {
     "duration": 41.42078,
     "end_time": "2024-07-26T13:26:35.172544",
     "exception": false,
     "start_time": "2024-07-26T13:25:53.751764",
     "status": "completed"
    },
    "tags": []
   },
   "outputs": [
    {
     "data": {
      "text/html": [
       "<div><style>\n",
       ".dataframe > thead > tr,\n",
       ".dataframe > tbody > tr {\n",
       "  text-align: right;\n",
       "  white-space: pre-wrap;\n",
       "}\n",
       "</style>\n",
       "<small>shape: (13_307_751, 2)</small><table border=\"1\" class=\"dataframe\"><thead><tr><th>publication_number</th><th>cpc_codes</th></tr><tr><td>str</td><td>list[str]</td></tr></thead><tbody><tr><td>&quot;US-2020225242-…</td><td>[&quot;G01N2500/02&quot;, &quot;G01N2560/00&quot;, … &quot;H01J49/0036&quot;]</td></tr><tr><td>&quot;US-2010137151-…</td><td>[&quot;G01N33/6818&quot;, &quot;G16B15/00&quot;, &quot;G16B30/00&quot;]</td></tr><tr><td>&quot;US-10607721-B2…</td><td>[&quot;G01N2500/20&quot;, &quot;G01N33/5008&quot;, … &quot;G16B40/10&quot;]</td></tr><tr><td>&quot;US-6747273-B2&quot;</td><td>[&quot;C12Q1/48&quot;, &quot;G01N30/7233&quot;, … &quot;Y10T436/24&quot;]</td></tr><tr><td>&quot;US-6940065-B2&quot;</td><td>[&quot;G01N2030/8417&quot;, &quot;G01N33/6803&quot;, … &quot;H01J49/004&quot;]</td></tr><tr><td>&hellip;</td><td>&hellip;</td></tr><tr><td>&quot;US-T999003-I4&quot;</td><td>[&quot;G03C8/10&quot;]</td></tr><tr><td>&quot;US-X1-I1&quot;</td><td>[&quot;C01D3/08&quot;]</td></tr><tr><td>&quot;US-X7668-I1&quot;</td><td>[]</td></tr><tr><td>&quot;US-X7982-I1&quot;</td><td>[]</td></tr><tr><td>&quot;US-X8736-I1&quot;</td><td>[]</td></tr></tbody></table></div>"
      ],
      "text/plain": [
       "shape: (13_307_751, 2)\n",
       "┌────────────────────┬───────────────────────────────────┐\n",
       "│ publication_number ┆ cpc_codes                         │\n",
       "│ ---                ┆ ---                               │\n",
       "│ str                ┆ list[str]                         │\n",
       "╞════════════════════╪═══════════════════════════════════╡\n",
       "│ US-2020225242-A1   ┆ [\"G01N2500/02\", \"G01N2560/00\", …… │\n",
       "│ US-2010137151-A1   ┆ [\"G01N33/6818\", \"G16B15/00\", \"G1… │\n",
       "│ US-10607721-B2     ┆ [\"G01N2500/20\", \"G01N33/5008\", …… │\n",
       "│ US-6747273-B2      ┆ [\"C12Q1/48\", \"G01N30/7233\", … \"Y… │\n",
       "│ US-6940065-B2      ┆ [\"G01N2030/8417\", \"G01N33/6803\",… │\n",
       "│ …                  ┆ …                                 │\n",
       "│ US-T999003-I4      ┆ [\"G03C8/10\"]                      │\n",
       "│ US-X1-I1           ┆ [\"C01D3/08\"]                      │\n",
       "│ US-X7668-I1        ┆ []                                │\n",
       "│ US-X7982-I1        ┆ []                                │\n",
       "│ US-X8736-I1        ┆ []                                │\n",
       "└────────────────────┴───────────────────────────────────┘"
      ]
     },
     "metadata": {},
     "output_type": "display_data"
    },
    {
     "name": "stdout",
     "output_type": "stream",
     "text": [
      "1160\n",
      "/kaggle/working/pubnum2cpc.txt\n",
      "/kaggle/working/cpc2pubnum.txt\n"
     ]
    }
   ],
   "source": [
    "df = pubnums.select(\"publication_number\")\n",
    "df = df.join(metadata, on=\"publication_number\", how=\"left\")\n",
    "display(df)\n",
    "df_test = df.join(test_pubnums, on=\"publication_number\", how=\"inner\")\n",
    "cpc2id = create_and_write_vocab(df_test, \"cpc_codes\", \"cpc\")\n",
    "\n",
    "ID_PUBNUM = 0\n",
    "ID_CPC = 1\n",
    "\n",
    "calc_x2ys(df_test, ID_PUBNUM, ID_CPC, test_pubnum2id, cpc2id, \"cpc\")\n",
    "calc_y2xs(df, ID_PUBNUM, ID_CPC, pubnum2id, cpc2id, \"cpc\")"
   ]
  },
  {
   "cell_type": "code",
   "execution_count": 10,
   "id": "6db26819",
   "metadata": {
    "execution": {
     "iopub.execute_input": "2024-07-26T13:26:35.187855Z",
     "iopub.status.busy": "2024-07-26T13:26:35.186835Z",
     "iopub.status.idle": "2024-07-26T13:26:35.453136Z",
     "shell.execute_reply": "2024-07-26T13:26:35.452058Z"
    },
    "papermill": {
     "duration": 0.276675,
     "end_time": "2024-07-26T13:26:35.455722",
     "exception": false,
     "start_time": "2024-07-26T13:26:35.179047",
     "status": "completed"
    },
    "tags": []
   },
   "outputs": [
    {
     "data": {
      "text/plain": [
       "0"
      ]
     },
     "execution_count": 10,
     "metadata": {},
     "output_type": "execute_result"
    }
   ],
   "source": [
    "import gc\n",
    "del metadata\n",
    "del df, df_test\n",
    "del cpc2id\n",
    "del nshot, test_nshot\n",
    "del potential_negative\n",
    "gc.collect()"
   ]
  },
  {
   "cell_type": "code",
   "execution_count": 11,
   "id": "e32fece5",
   "metadata": {
    "execution": {
     "iopub.execute_input": "2024-07-26T13:26:35.471508Z",
     "iopub.status.busy": "2024-07-26T13:26:35.471084Z",
     "iopub.status.idle": "2024-07-26T13:38:29.336815Z",
     "shell.execute_reply": "2024-07-26T13:38:29.335589Z"
    },
    "papermill": {
     "duration": 713.884246,
     "end_time": "2024-07-26T13:38:29.347093",
     "exception": false,
     "start_time": "2024-07-26T13:26:35.462847",
     "status": "completed"
    },
    "tags": []
   },
   "outputs": [
    {
     "name": "stdout",
     "output_type": "stream",
     "text": [
      "description 13307658\n",
      "description 500\n"
     ]
    },
    {
     "data": {
      "text/html": [
       "<div><style>\n",
       ".dataframe > thead > tr,\n",
       ".dataframe > tbody > tr {\n",
       "  text-align: right;\n",
       "  white-space: pre-wrap;\n",
       "}\n",
       "</style>\n",
       "<small>shape: (13_307_658, 2)</small><table border=\"1\" class=\"dataframe\"><thead><tr><th>publication_number</th><th>description</th></tr><tr><td>str</td><td>list[str]</td></tr></thead><tbody><tr><td>&quot;US-X1-I1&quot;</td><td>[&quot;xqqqq&quot;]</td></tr><tr><td>&quot;US-X7668-I1&quot;</td><td>[&quot;7775mm&quot;, &quot;broughtinto&quot;, … &quot;jv&quot;]</td></tr><tr><td>&quot;US-X7982-I1&quot;</td><td>[&quot;galvanc&quot;, &quot;hound&quot;, … &quot;inuence&quot;]</td></tr><tr><td>&quot;US-X8736-I1&quot;</td><td>[&quot;harringtun&quot;]</td></tr><tr><td>&quot;US-107-A&quot;</td><td>[]</td></tr><tr><td>&hellip;</td><td>&hellip;</td></tr><tr><td>&quot;US-T958613-I4&quot;</td><td>[]</td></tr><tr><td>&quot;US-T959435-I4&quot;</td><td>[]</td></tr><tr><td>&quot;US-T974866-I4&quot;</td><td>[]</td></tr><tr><td>&quot;US-T980961-I4&quot;</td><td>[]</td></tr><tr><td>&quot;US-T989185-I4&quot;</td><td>[]</td></tr></tbody></table></div>"
      ],
      "text/plain": [
       "shape: (13_307_658, 2)\n",
       "┌────────────────────┬───────────────────────────────────┐\n",
       "│ publication_number ┆ description                       │\n",
       "│ ---                ┆ ---                               │\n",
       "│ str                ┆ list[str]                         │\n",
       "╞════════════════════╪═══════════════════════════════════╡\n",
       "│ US-X1-I1           ┆ [\"xqqqq\"]                         │\n",
       "│ US-X7668-I1        ┆ [\"7775mm\", \"broughtinto\", … \"jv\"… │\n",
       "│ US-X7982-I1        ┆ [\"galvanc\", \"hound\", … \"inuence\"… │\n",
       "│ US-X8736-I1        ┆ [\"harringtun\"]                    │\n",
       "│ US-107-A           ┆ []                                │\n",
       "│ …                  ┆ …                                 │\n",
       "│ US-T958613-I4      ┆ []                                │\n",
       "│ US-T959435-I4      ┆ []                                │\n",
       "│ US-T974866-I4      ┆ []                                │\n",
       "│ US-T980961-I4      ┆ []                                │\n",
       "│ US-T989185-I4      ┆ []                                │\n",
       "└────────────────────┴───────────────────────────────────┘"
      ]
     },
     "metadata": {},
     "output_type": "display_data"
    },
    {
     "name": "stdout",
     "output_type": "stream",
     "text": [
      "18110\n",
      "/kaggle/working/pubnum2description.txt\n",
      "/kaggle/working/description2pubnum.txt\n",
      "title 13307658\n",
      "title 500\n"
     ]
    },
    {
     "data": {
      "text/html": [
       "<div><style>\n",
       ".dataframe > thead > tr,\n",
       ".dataframe > tbody > tr {\n",
       "  text-align: right;\n",
       "  white-space: pre-wrap;\n",
       "}\n",
       "</style>\n",
       "<small>shape: (13_307_658, 2)</small><table border=\"1\" class=\"dataframe\"><thead><tr><th>publication_number</th><th>title</th></tr><tr><td>str</td><td>list[str]</td></tr></thead><tbody><tr><td>&quot;US-X1-I1&quot;</td><td>[&quot;ashes&quot;, &quot;ash&quot;, … &quot;pearl&quot;]</td></tr><tr><td>&quot;US-X7668-I1&quot;</td><td>[&quot;curing&quot;, &quot;applied&quot;, … &quot;galvanic&quot;]</td></tr><tr><td>&quot;US-X7982-I1&quot;</td><td>[&quot;diseases&quot;, &quot;electricity&quot;, … &quot;certain&quot;]</td></tr><tr><td>&quot;US-X8736-I1&quot;</td><td>[&quot;galvanic&quot;]</td></tr><tr><td>&quot;US-107-A&quot;</td><td>[&quot;withdrawn&quot;]</td></tr><tr><td>&hellip;</td><td>&hellip;</td></tr><tr><td>&quot;US-T958613-I4&quot;</td><td>[]</td></tr><tr><td>&quot;US-T959435-I4&quot;</td><td>[]</td></tr><tr><td>&quot;US-T974866-I4&quot;</td><td>[]</td></tr><tr><td>&quot;US-T980961-I4&quot;</td><td>[]</td></tr><tr><td>&quot;US-T989185-I4&quot;</td><td>[]</td></tr></tbody></table></div>"
      ],
      "text/plain": [
       "shape: (13_307_658, 2)\n",
       "┌────────────────────┬───────────────────────────────────┐\n",
       "│ publication_number ┆ title                             │\n",
       "│ ---                ┆ ---                               │\n",
       "│ str                ┆ list[str]                         │\n",
       "╞════════════════════╪═══════════════════════════════════╡\n",
       "│ US-X1-I1           ┆ [\"ashes\", \"ash\", … \"pearl\"]       │\n",
       "│ US-X7668-I1        ┆ [\"curing\", \"applied\", … \"galvani… │\n",
       "│ US-X7982-I1        ┆ [\"diseases\", \"electricity\", … \"c… │\n",
       "│ US-X8736-I1        ┆ [\"galvanic\"]                      │\n",
       "│ US-107-A           ┆ [\"withdrawn\"]                     │\n",
       "│ …                  ┆ …                                 │\n",
       "│ US-T958613-I4      ┆ []                                │\n",
       "│ US-T959435-I4      ┆ []                                │\n",
       "│ US-T974866-I4      ┆ []                                │\n",
       "│ US-T980961-I4      ┆ []                                │\n",
       "│ US-T989185-I4      ┆ []                                │\n",
       "└────────────────────┴───────────────────────────────────┘"
      ]
     },
     "metadata": {},
     "output_type": "display_data"
    },
    {
     "name": "stdout",
     "output_type": "stream",
     "text": [
      "854\n",
      "/kaggle/working/pubnum2title.txt\n",
      "/kaggle/working/title2pubnum.txt\n",
      "abstract 13307658\n",
      "abstract 500\n"
     ]
    },
    {
     "data": {
      "text/html": [
       "<div><style>\n",
       ".dataframe > thead > tr,\n",
       ".dataframe > tbody > tr {\n",
       "  text-align: right;\n",
       "  white-space: pre-wrap;\n",
       "}\n",
       "</style>\n",
       "<small>shape: (13_307_658, 2)</small><table border=\"1\" class=\"dataframe\"><thead><tr><th>publication_number</th><th>abstract</th></tr><tr><td>str</td><td>list[str]</td></tr></thead><tbody><tr><td>&quot;US-X1-I1&quot;</td><td>[]</td></tr><tr><td>&quot;US-X7668-I1&quot;</td><td>[]</td></tr><tr><td>&quot;US-X7982-I1&quot;</td><td>[]</td></tr><tr><td>&quot;US-X8736-I1&quot;</td><td>[]</td></tr><tr><td>&quot;US-107-A&quot;</td><td>[]</td></tr><tr><td>&hellip;</td><td>&hellip;</td></tr><tr><td>&quot;US-T958613-I4&quot;</td><td>[]</td></tr><tr><td>&quot;US-T959435-I4&quot;</td><td>[]</td></tr><tr><td>&quot;US-T974866-I4&quot;</td><td>[]</td></tr><tr><td>&quot;US-T980961-I4&quot;</td><td>[]</td></tr><tr><td>&quot;US-T989185-I4&quot;</td><td>[]</td></tr></tbody></table></div>"
      ],
      "text/plain": [
       "shape: (13_307_658, 2)\n",
       "┌────────────────────┬───────────┐\n",
       "│ publication_number ┆ abstract  │\n",
       "│ ---                ┆ ---       │\n",
       "│ str                ┆ list[str] │\n",
       "╞════════════════════╪═══════════╡\n",
       "│ US-X1-I1           ┆ []        │\n",
       "│ US-X7668-I1        ┆ []        │\n",
       "│ US-X7982-I1        ┆ []        │\n",
       "│ US-X8736-I1        ┆ []        │\n",
       "│ US-107-A           ┆ []        │\n",
       "│ …                  ┆ …         │\n",
       "│ US-T958613-I4      ┆ []        │\n",
       "│ US-T959435-I4      ┆ []        │\n",
       "│ US-T974866-I4      ┆ []        │\n",
       "│ US-T980961-I4      ┆ []        │\n",
       "│ US-T989185-I4      ┆ []        │\n",
       "└────────────────────┴───────────┘"
      ]
     },
     "metadata": {},
     "output_type": "display_data"
    },
    {
     "name": "stdout",
     "output_type": "stream",
     "text": [
      "3230\n",
      "/kaggle/working/pubnum2abstract.txt\n",
      "/kaggle/working/abstract2pubnum.txt\n",
      "claims 13307658\n",
      "claims 500\n"
     ]
    },
    {
     "data": {
      "text/html": [
       "<div><style>\n",
       ".dataframe > thead > tr,\n",
       ".dataframe > tbody > tr {\n",
       "  text-align: right;\n",
       "  white-space: pre-wrap;\n",
       "}\n",
       "</style>\n",
       "<small>shape: (13_307_658, 2)</small><table border=\"1\" class=\"dataframe\"><thead><tr><th>publication_number</th><th>claims</th></tr><tr><td>str</td><td>list[str]</td></tr></thead><tbody><tr><td>&quot;US-X1-I1&quot;</td><td>[]</td></tr><tr><td>&quot;US-X7668-I1&quot;</td><td>[]</td></tr><tr><td>&quot;US-X7982-I1&quot;</td><td>[]</td></tr><tr><td>&quot;US-X8736-I1&quot;</td><td>[]</td></tr><tr><td>&quot;US-107-A&quot;</td><td>[]</td></tr><tr><td>&hellip;</td><td>&hellip;</td></tr><tr><td>&quot;US-T958613-I4&quot;</td><td>[]</td></tr><tr><td>&quot;US-T959435-I4&quot;</td><td>[]</td></tr><tr><td>&quot;US-T974866-I4&quot;</td><td>[]</td></tr><tr><td>&quot;US-T980961-I4&quot;</td><td>[]</td></tr><tr><td>&quot;US-T989185-I4&quot;</td><td>[]</td></tr></tbody></table></div>"
      ],
      "text/plain": [
       "shape: (13_307_658, 2)\n",
       "┌────────────────────┬───────────┐\n",
       "│ publication_number ┆ claims    │\n",
       "│ ---                ┆ ---       │\n",
       "│ str                ┆ list[str] │\n",
       "╞════════════════════╪═══════════╡\n",
       "│ US-X1-I1           ┆ []        │\n",
       "│ US-X7668-I1        ┆ []        │\n",
       "│ US-X7982-I1        ┆ []        │\n",
       "│ US-X8736-I1        ┆ []        │\n",
       "│ US-107-A           ┆ []        │\n",
       "│ …                  ┆ …         │\n",
       "│ US-T958613-I4      ┆ []        │\n",
       "│ US-T959435-I4      ┆ []        │\n",
       "│ US-T974866-I4      ┆ []        │\n",
       "│ US-T980961-I4      ┆ []        │\n",
       "│ US-T989185-I4      ┆ []        │\n",
       "└────────────────────┴───────────┘"
      ]
     },
     "metadata": {},
     "output_type": "display_data"
    },
    {
     "name": "stdout",
     "output_type": "stream",
     "text": [
      "4596\n",
      "/kaggle/working/pubnum2claims.txt\n",
      "/kaggle/working/claims2pubnum.txt\n",
      "CPU times: user 13min 3s, sys: 1min 21s, total: 14min 24s\n",
      "Wall time: 11min 53s\n"
     ]
    }
   ],
   "source": [
    "%%time\n",
    "for field_info in [(\"description\", \"10k\"), (\"title\", \"400k\"), (\"abstract\", \"400k\"), (\"claims\", \"100k\")]:\n",
    "    field, freq = field_info\n",
    "    df_x = pl.scan_parquet(f\"{MY_DATADIR}/{field}_{freq}.parquet\").collect()\n",
    "    print(field, len(df_x))\n",
    "    df_x_test = df_x.join(test_pubnums, on=\"publication_number\", how=\"inner\")\n",
    "    print(field, len(df_x_test))\n",
    "    display(df_x)\n",
    "    x2id = create_and_write_vocab(df_x_test, field)\n",
    "    ID_PUBNUM = 0\n",
    "    ID_X = 1\n",
    "    calc_x2ys(df_x_test, ID_PUBNUM, ID_X, test_pubnum2id, x2id, field)\n",
    "    calc_y2xs(df_x, ID_PUBNUM, ID_X, pubnum2id, x2id, field)"
   ]
  },
  {
   "cell_type": "code",
   "execution_count": 12,
   "id": "1603b928",
   "metadata": {
    "execution": {
     "iopub.execute_input": "2024-07-26T13:38:29.365524Z",
     "iopub.status.busy": "2024-07-26T13:38:29.365094Z",
     "iopub.status.idle": "2024-07-26T13:38:30.197402Z",
     "shell.execute_reply": "2024-07-26T13:38:30.196308Z"
    },
    "papermill": {
     "duration": 0.844449,
     "end_time": "2024-07-26T13:38:30.199831",
     "exception": false,
     "start_time": "2024-07-26T13:38:29.355382",
     "status": "completed"
    },
    "tags": []
   },
   "outputs": [
    {
     "data": {
      "text/plain": [
       "0"
      ]
     },
     "execution_count": 12,
     "metadata": {},
     "output_type": "execute_result"
    }
   ],
   "source": [
    "import gc\n",
    "del df_x, df_x_test\n",
    "del pubnum2id, x2id\n",
    "gc.collect()"
   ]
  },
  {
   "cell_type": "markdown",
   "id": "84c92aec",
   "metadata": {
    "papermill": {
     "duration": 0.008968,
     "end_time": "2024-07-26T13:38:30.217467",
     "exception": false,
     "start_time": "2024-07-26T13:38:30.208499",
     "status": "completed"
    },
    "tags": []
   },
   "source": [
    "## Solve and Validate"
   ]
  },
  {
   "cell_type": "code",
   "execution_count": 13,
   "id": "e208c465",
   "metadata": {
    "execution": {
     "iopub.execute_input": "2024-07-26T13:38:30.236566Z",
     "iopub.status.busy": "2024-07-26T13:38:30.235667Z",
     "iopub.status.idle": "2024-07-26T13:41:45.649451Z",
     "shell.execute_reply": "2024-07-26T13:41:45.648207Z"
    },
    "papermill": {
     "duration": 195.434758,
     "end_time": "2024-07-26T13:41:45.660539",
     "exception": false,
     "start_time": "2024-07-26T13:38:30.225781",
     "status": "completed"
    },
    "tags": []
   },
   "outputs": [
    {
     "name": "stdout",
     "output_type": "stream",
     "text": [
      "CPU times: user 25 ms, sys: 31.2 ms, total: 56.2 ms\n",
      "Wall time: 3min 15s\n"
     ]
    }
   ],
   "source": [
    "%%time\n",
    "import subprocess\n",
    "\n",
    "## Execution on 2500 lines takes approximately 4-6 hours.\n",
    "result = subprocess.run(f\"g++ -std=c++17 -O3 {MY_SCRIPTDIR}/main.cpp && ./a.out --field cpc --field title --field abstract --field claims --field description\", shell=True, text=True, capture_output=True)"
   ]
  },
  {
   "cell_type": "markdown",
   "id": "0f050f4a",
   "metadata": {
    "papermill": {
     "duration": 0.008383,
     "end_time": "2024-07-26T13:41:45.677708",
     "exception": false,
     "start_time": "2024-07-26T13:41:45.669325",
     "status": "completed"
    },
    "tags": []
   },
   "source": [
    "## Submission"
   ]
  },
  {
   "cell_type": "code",
   "execution_count": 14,
   "id": "15630941",
   "metadata": {
    "execution": {
     "iopub.execute_input": "2024-07-26T13:41:45.697099Z",
     "iopub.status.busy": "2024-07-26T13:41:45.696722Z",
     "iopub.status.idle": "2024-07-26T13:41:46.925471Z",
     "shell.execute_reply": "2024-07-26T13:41:46.924095Z"
    },
    "papermill": {
     "duration": 1.241833,
     "end_time": "2024-07-26T13:41:46.928443",
     "exception": false,
     "start_time": "2024-07-26T13:41:45.686610",
     "status": "completed"
    },
    "tags": []
   },
   "outputs": [
    {
     "name": "stdout",
     "output_type": "stream",
     "text": [
      "1188  {DATADIR} = {/kaggle/working/}\n",
      "390  {testcases.size()} = {10}\n",
      "391  {LAST_TEST_ID} = {509}\n",
      "1211  {param_} = {max_depth=3,sampling_ratio=0.2,beam_width=100,timeout=0.2,solver=multi,active_fields=cpc|ti|ab|clm|detd|}\n",
      "1213  {N_PUBNUM} = {13307750}\n",
      "1131  {j, n_entity, n_token, positive, potential_negative, score, mean, timer.get()} = {0, 809, 50, 42, 0, 0.984869, 0.984869, 15.847}\n",
      "1131  {j, n_entity, n_token, positive, potential_negative, score, mean, timer.get()} = {1, 277, 50, 36, 0, 0.953745, 0.969307, 9.796}\n",
      "1131  {j, n_entity, n_token, positive, potential_negative, score, mean, timer.get()} = {2, 182, 50, 34, 4, 0.923651, 0.954088, 9.549}\n",
      "1131  {j, n_entity, n_token, positive, potential_negative, score, mean, timer.get()} = {3, 324, 50, 36, 3, 0.942125, 0.951097, 9.758}\n",
      "1131  {j, n_entity, n_token, positive, potential_negative, score, mean, timer.get()} = {4, 208, 49, 37, 0, 0.960238, 0.952926, 0.493}\n",
      "1131  {j, n_entity, n_token, positive, potential_negative, score, mean, timer.get()} = {5, 252, 50, 37, 0, 0.960238, 0.954144, 2.225}\n",
      "1131  {j, n_entity, n_token, positive, potential_negative, score, mean, timer.get()} = {6, 111, 50, 33, 2, 0.923097, 0.949709, 0.379}\n",
      "1131  {j, n_entity, n_token, positive, potential_negative, score, mean, timer.get()} = {7, 69, 50, 28, 2, 0.872614, 0.940072, 2.63}\n",
      "1131  {j, n_entity, n_token, positive, potential_negative, score, mean, timer.get()} = {8, 232, 50, 33, 4, 0.915432, 0.937334, 9.719}\n",
      "1131  {j, n_entity, n_token, positive, potential_negative, score, mean, timer.get()} = {9, 132, 50, 32, 0, 0.922054, 0.935806, 0.437}\n",
      "241  {mean, median, max, min} = {0.935806, 0.932888, 0.984869, 0.872614}\n",
      "\n",
      "publication_number,query\r\n",
      "US-2017082634-A1,(detd:phosphopeptides (cpc:G06F19/18 OR (ti:quantifying ab:sample))) OR (ti:proteomics detd:bischoff) OR (cpc:H01J49/0036 detd:andromeda) OR (cpc:G01N33/6848 ((clm:resultant detd:finnigan) OR (ab:order clm:interest) OR (ab:detected detd:antifolate) OR (detd:desalt detd:kirschner) OR (clm:query clm:spectra))) OR (ab:identified detd:microcapillary detd:zorbax) OR (ab:databases ab:ion clm:proteins) OR (clm:elution detd:mzmine) OR (ab:abundance detd:econometrics) OR (ti:shotgun ab:spectrometry) OR (cpc:G16B40/00 detd:hdmse) OR (ab:business clm:maldi)\r\n",
      "US-2017180470-A1,(detd:existences ((ab:client clm:cdn) OR (clm:communicably clm:requests) OR (ab:configuration ab:server) OR (ab:sending clm:delete) OR (ti:electronic ab:solution))) OR (cpc:H04L67/1029 detd:cimi) OR (cpc:H04L67/06 ti:router ab:requested) OR (ab:ad clm:memories detd:manet) OR (cpc:H04L47/125 ti:connections clm:name) OR (ab:ip clm:communicably detd:allusion) OR (ti:connection ab:receives detd:dropbox) OR (ab:peer clm:hard clm:specification) OR detd:tab_2_reuse OR detd:πsources OR detd:www.neumob.com OR detd:cn201310132935.0\r\n",
      "US-2018029544-A1,(cpc:Y02E10/50 ab:frameless clm:butyl) OR (cpc:B32B2457/12 ab:cell ab:vehicle) OR (ab:transparent ((cpc:H01L31/049 ab:fiber) OR (cpc:B60J7/043 ab:modules) OR (cpc:H01L31/0488 clm:abs))) OR (ab:battery ab:sealant ab:solar) OR detd:riprea OR (cpc:B60K2001/0438 cpc:F41H7/042) OR (ti:cell ((cpc:H02S20/00 ab:protrude) OR (ab:flexible ab:roof))) OR (cpc:H01M10/613 cpc:H01M10/653 detd:inflowed) OR (cpc:H01M50/20 ab:brackets ab:surfaces) OR (cpc:H01M10/6556 ab:fixing ab:floor) OR (cpc:B60K16/00 (clm:sealant OR cpc:B62D29/005))\r\n",
      "US-2022408153-A1,(clm:comedy clm:laughing) OR (detd:crying ((clm:designated detd:attentive) OR (ab:emotion detd:documentary) OR (cpc:H04N21/44218 ab:microphone))) OR (cpc:A61B5/744 ab:humans) OR (ab:augmented ab:project detd:chatting) OR (detd:captioning ((clm:emotional detd:eyebrow) OR (ab:presenting clm:predict))) OR (cpc:G06F21/32 detd:bate) OR (cpc:G06F2203/011 ((ab:acquires clm:gaze) OR (ti:experience ab:devices) OR (ab:characteristic clm:measures))) OR (ab:presentation ((cpc:H04N21/44218 clm:nationality) OR (ab:transmitted detd:gazing))) OR (ti:providing ab:dialogue clm:microphone)\r\n",
      "US-2268569-A,(detd:claremont (ti:shovel OR detd:discha OR (detd:muck detd:shovelling))) OR (cpc:E02F9/00 detd:stoltz) OR (detd:muck ((ti:machine detd:furcations) OR detd:relativev OR detd:controlmeans)) OR (cpc:E02F9/2016 detd:selfloading) OR (cpc:E02F9/022 detd:adaptedv) OR (detd:theretoand detd:vmine) OR (detd:mucking (detd:itil OR (detd:opcrating detd:shoveled))) OR (cpc:E02F3/6472 ti:scraper detd:ravity) OR detd:alovveredv OR detd:davidwilamond OR detd:wharfpthe OR detd:themzinifold OR detd:verticaipin OR detd:restrictionimposed\r\n",
      "US-3371854-A,(cpc:H01J41/16 (detd:redhead OR detd:delining OR (detd:bombard detd:lilament))) OR (ti:pump (detd:penningtype OR (ti:getter detd:bombarding) OR (clm:sputtering detd:bombarding) OR detd:3l37 OR (ti:shielded detd:burial))) OR (detd:pauly detd:perferably) OR (ti:vacuum ((detd:gettered detd:subliming) OR (cpc:H01J41/20 detd:bular))) OR (cpc:H01J41/04 detd:afiords) OR (ab:determined ab:given detd:paschen) OR (clm:accelerated clm:envelope clm:gettering) OR detd:qpcoih OR detd:icnckel OR detd:acksoud OR detd:centimetersfrom\r\n",
      "US-3589189-A,(detd:granberg (detd:1nvention OR detd:gritty)) OR (cpc:G01F3/18 (detd:movementto OR detd:fifi)) OR (ti:gas (detd:rheinallee OR (cpc:G01F3/223 clm:rotationally))) OR (ti:meters detd:theopen) OR (cpc:G01F3/20 detd:spooner) OR (ti:liquid (detd:cheronnet OR (ti:meter detd:mountedto))) OR (detd:brubaker detd:outletting) OR (ti:fluid (detd:granbebg OR (ti:meter detd:therethrou))) OR detd:hd5144 OR detd:lgoue OR detd:bfficlgiloy OR detd:fixedgghambers OR detd:forthenearly OR detd:slidevalveseatings OR detd:saidediaphragims\r\n",
      "US-3881203-A,(ti:book (detd:springlike OR ab:sheaf)) OR detd:initialjpagesathan OR (cpc:Y10T24/206 (clm:engagable OR detd:sketching)) OR (cpc:Y10T24/1321 clm:closely) OR (ti:binder clm:flush clm:unitary) OR clm:minimumizing OR detd:mohhul OR detd:tytorn OR detd:pardeevharper OR detd:polkosnxk OR detd:czfwm OR detd:wialw OR detd:rfittlauginnie OR detd:ihvchuod OR detd:securingfidevices OR detd:zptszso OR detd:raaaf OR detd:circlelioffigure OR detd:tmsqllrmg OR detd:zzaleew OR detd:indexedeard\r\n",
      "US-4845770-A,(ti:hand detd:berler) OR (cpc:G06K7/10 ((ab:head ab:portions) OR (ab:read detd:smudged))) OR (ab:optical ((cpc:G06K7/10831 detd:g06k) OR (ab:cause ab:fingerprints) OR (cpc:G06K17/0032 ab:reflected))) OR (cpc:H04N1/107 detd:mcwaters) OR (ab:beam ab:read detd:deciphered) OR (clm:holdable ((ab:mirror ab:roller) OR (ab:codes ab:only))) OR (ti:reader ((ti:scanner ab:manner) OR (ab:correct ab:presence))) OR (ab:bearing ab:digit detd:61.ll) OR detd:kawanowa OR (ab:embossments ab:optically clm:scanned)\r\n",
      "US-695233-A,(ti:acetylene (detd:vpermit OR detd:bastrop OR detd:generatonof OR (detd:acetylenegenerator detd:supplypipe) OR (detd:duces detd:generatingchamber) OR (detd:averted detd:gasometer) OR (detd:gasometerbell detd:waterseal) OR (detd:gasholder detd:tzz))) OR detd:lipertnred OR (detd:carbidcompartments detd:unconsumed) OR (detd:acetylenegas detd:qv) OR (ti:machine detd:carbidvalve) OR (detd:agetylbne detd:carbidchamber detd:earbid) OR detd:ktoznup OR detd:lvlaok OR detd:iendler OR detd:occupysubstantiallyahorizontal OR detd:washlnstonfu OR detd:theconduih OR detd:munmsuu\r\n"
     ]
    }
   ],
   "source": [
    "queries = result.stdout.strip().split(\"\\n\")\n",
    "print(result.stderr)\n",
    "assert len(queries) == len(test)\n",
    "with open(\"submission.csv\", \"w\") as f:\n",
    "    f.write(\"publication_number,query\\n\")\n",
    "    for i in range(len(queries)):\n",
    "        pub = test[\"publication_number\"][i]\n",
    "        f.write(f\"{pub},{queries[i]}\\n\")\n",
    "!head -n 11 submission.csv"
   ]
  }
 ],
 "metadata": {
  "kaggle": {
   "accelerator": "none",
   "dataSources": [
    {
     "databundleVersionId": 8060720,
     "sourceId": 59575,
     "sourceType": "competition"
    },
    {
     "datasetId": 4517815,
     "sourceId": 8479599,
     "sourceType": "datasetVersion"
    },
    {
     "datasetId": 5449505,
     "sourceId": 9039962,
     "sourceType": "datasetVersion"
    },
    {
     "datasetId": 5449602,
     "sourceId": 9039692,
     "sourceType": "datasetVersion"
    },
    {
     "sourceId": 174185912,
     "sourceType": "kernelVersion"
    }
   ],
   "dockerImageVersionId": 30698,
   "isGpuEnabled": false,
   "isInternetEnabled": false,
   "language": "python",
   "sourceType": "notebook"
  },
  "kernelspec": {
   "display_name": "Python 3",
   "language": "python",
   "name": "python3"
  },
  "language_info": {
   "codemirror_mode": {
    "name": "ipython",
    "version": 3
   },
   "file_extension": ".py",
   "mimetype": "text/x-python",
   "name": "python",
   "nbconvert_exporter": "python",
   "pygments_lexer": "ipython3",
   "version": "3.10.13"
  },
  "papermill": {
   "default_parameters": {},
   "duration": 977.391355,
   "end_time": "2024-07-26T13:41:47.561558",
   "environment_variables": {},
   "exception": null,
   "input_path": "__notebook__.ipynb",
   "output_path": "__notebook__.ipynb",
   "parameters": {},
   "start_time": "2024-07-26T13:25:30.170203",
   "version": "2.5.0"
  }
 },
 "nbformat": 4,
 "nbformat_minor": 5
}
